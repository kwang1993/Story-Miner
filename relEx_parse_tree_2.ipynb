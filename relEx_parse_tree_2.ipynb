{
 "cells": [
  {
   "cell_type": "code",
   "execution_count": 2,
   "metadata": {
    "collapsed": false,
    "scrolled": false
   },
   "outputs": [
    {
     "data": {
      "application/javascript": [
       "var add_edit_shortcuts = {\n",
       "    'shift-enter' : {\n",
       "                help : 'run cell, select next codecell',\n",
       "                help_index : 'bb',\n",
       "                handler : function (event) {\n",
       "                IPython.notebook.execute_cell_and_select_below();\n",
       "                // find next CodeCell and go into edit mode if possible, else stay in next cell\n",
       "                var i;\n",
       "                for (i = IPython.notebook.get_selected_index(); i < IPython.notebook.ncells() ;i++) {\n",
       "                var cell = IPython.notebook.get_cell(i);\n",
       "                if (cell instanceof IPython.CodeCell) {\n",
       "                    IPython.notebook.select(i);\n",
       "                    IPython.notebook.edit_mode();\n",
       "                    break;\n",
       "                }\n",
       "            }\n",
       "            return false;\n",
       "        }\n",
       "    },\n",
       "};\n",
       "\n",
       "IPython.keyboard_manager.edit_shortcuts.add_shortcuts(add_edit_shortcuts); "
      ],
      "text/plain": [
       "<IPython.core.display.Javascript object>"
      ]
     },
     "metadata": {},
     "output_type": "display_data"
    },
    {
     "name": "stdout",
     "output_type": "stream",
     "text": [
      "0 Here is a link to the DOH exemption page : Your statement should read : Our child , [ FULL NAME ] will be entering [ NAME OF SCHOOL ] as a kindergartener this Fall and we are submitting this statement in order to satisfy state immunization requirements for school entry .\n",
      "\n",
      "Katherine You only submit a religious exemption to the school district once your child starts school , or to their daycare if they go there or preschool , etc .\n",
      "\n",
      ": My son was previously vaxed and we submitted an exemption letter just this year and it was accepted .\n",
      "\n",
      ") Even though my 6 yr. old son is not required to receive the next  mandatory \" vaccination until 7th grade ( six years from now ) , I wanted to know if I should submit a request for a religious exemption NOW since I am pregnant and do not plan on vaccinating the new baby .\n",
      "Error in sentence annotation\n",
      "Unexpected error while extracting relations: <type 'exceptions.NameError'>\n",
      "Relation Extraction Time:  0.733223199844 (seconds) -  0.0122203866641 (min)\n",
      "***************STATISTICS***************\n",
      "Total number of input records (posts):  1\n",
      "Total number of extracted relations:  0\n",
      "top  10  frequent relations:\n",
      "[]\n",
      "All relations:\n",
      "[]\n"
     ]
    }
   ],
   "source": [
    "import time # to calculate the annotation time\n",
    "import re # regular expression\n",
    "import networkx as nx # to calculate the shortest path between nodes in the parsing tree\n",
    "from practnlptools.tools import Annotator # to extract dep_parse, syntatic_parse, srl, verbs, words, POS, NER, chunks\n",
    "import pandas as pd\n",
    "from datetime import datetime, timedelta\n",
    "import csv\n",
    "import matplotlib.pyplot as plt\n",
    "from collections import defaultdict\n",
    "from pprint import pprint # print dictionaries nicer\n",
    "from nxpd import draw # show in iptyhon\n",
    "from IPython.display import display # to display images and draw objects \n",
    "from networkx.drawing.nx_agraph import write_dot\n",
    "import sys\n",
    "\n",
    "try:\n",
    "    from networkx.drawing.nx_agraph import graphviz_layout\n",
    "except ImportError:\n",
    "    raise ImportError(\"This example needs Graphviz and either PyGraphviz or Pydot\")\n",
    "\n",
    "%matplotlib inline\n",
    "\n",
    "#import the other functions\n",
    "%run -i 'main_functions'\n",
    "%run -i 'utility_functions'\n",
    "%run -i 'parameters'\n",
    "\n",
    "annotator = Annotator()\n",
    "\n",
    "'''\n",
    "A few sample test cases:\n",
    "#texts = [\"the Church told all Catholic parents not to let their child get the MMR.\"]\n",
    "#texts = [\"Why Samsung Pay could gain an early lead in mobile payments.\"]\n",
    "#texts = [\"You would keep your child 's shot records at home and NOT submit that to the school...only your exemption from all shots .\"]\n",
    "#texts = [\"Parents may use their philosophical beliefs exemption for ANY vaccine they choose to do so ; you may selectively vaccinate your child and exempt them out of other vaccines ; you may also exempt out of any and all vaccines and use your exemption that way , as well .\"]\n",
    "#texts = [\"Here is the Hawaii immunization brochure , which states the exemption forms can also be obtained from the school : Immunization and TB code : Surprisingly , I do n't see anything about religiously exempting a child from the TB screening requirement in the code .\"]\n",
    "'''\n",
    "texts = ['Here is a link to the DOH exemption page : Your statement should read : Our child , [ FULL NAME ] will be entering [ NAME OF SCHOOL ] as a kindergartener this Fall and we are submitting this statement in order to satisfy state immunization requirements for school entry .\\n\\nKatherine You only submit a religious exemption to the school district once your child starts school , or to their daycare if they go there or preschool , etc .\\n\\n: My son was previously vaxed and we submitted an exemption letter just this year and it was accepted .\\n\\n) Even though my 6 yr. old son is not required to receive the next  mandatory \" vaccination until 7th grade ( six years from now ) , I wanted to know if I should submit a request for a religious exemption NOW since I am pregnant and do not plan on vaccinating the new baby .']\n",
    "all_rels = []\n",
    "start_time = time.time()\n",
    "for ind, t in enumerate(texts):\n",
    "    #if ind > 500:\n",
    "    #    break\n",
    "    print ind, t\n",
    "    try:\n",
    "        t_annotated = annotator.getAnnotations(t, dep_parse=True)\n",
    "    except:\n",
    "        print \"Error in sentence annotation\"\n",
    "    try:\n",
    "        g_dir = create_dep_graph(t_annotated)\n",
    "        if g_dir is None:\n",
    "            print \"No extraction found\"\n",
    "            continue\n",
    "        plot_dep(g_dir,t)\n",
    "        g_undir = g_dir.to_undirected()\n",
    "        rels = get_relations(g_dir, t_annotated, option=\"SVO\")\n",
    "        print_relations(rels) \n",
    "        all_rels = all_rels + get_rels_str(rels)        \n",
    "    except:\n",
    "        print \"Unexpected error while extracting relations:\", sys.exc_info()[0]\n",
    "\n",
    "\n",
    "end_time = time.time()\n",
    "print \"Relation Extraction Time: \", end_time-start_time , \"(seconds) - \", (end_time-start_time)/60, \"(min)\"\n",
    "    \n",
    "print \"***************STATISTICS***************\"\n",
    "print \"Total number of input records (posts): \", len(texts)\n",
    "print \"Total number of extracted relations: \", len(all_rels)\n",
    "print_arguments_graph(all_rels,top_num=10) \n",
    "print \"All relations:\"\n",
    "print all_rels"
   ]
  },
  {
   "cell_type": "code",
   "execution_count": 6,
   "metadata": {
    "collapsed": false
   },
   "outputs": [
    {
     "name": "stdout",
     "output_type": "stream",
     "text": [
      "Here is a link to the DOH exemption page : Your statement should read : Our child , [ FULL NAME ] will be entering [ NAME OF SCHOOL ] as a kindergartener this Fall and we are submitting this statement in order to satisfy state immunization requirements for school entry .\n",
      "\n",
      "Katherine You only submit a religious exemption to the school district once your child starts school , or to their daycare if they go there or preschool , etc .\n",
      "\n",
      ": My son was previously vaxed and we submitted an exemption letter just this year and it was accepted .\n",
      "\n",
      ") Even though my 6 yr. old son is not required to receive the next  mandatory \" vaccination until 7th grade ( six years from now ) , I wanted to know if I should submit a request for a religious exemption NOW since I am pregnant and do not plan on vaccinating the new baby .\n"
     ]
    },
    {
     "ename": "IndexError",
     "evalue": "list index out of range",
     "output_type": "error",
     "traceback": [
      "\u001b[0;31m---------------------------------------------------------------------------\u001b[0m",
      "\u001b[0;31mIndexError\u001b[0m                                Traceback (most recent call last)",
      "\u001b[0;32m<ipython-input-6-751b63d48730>\u001b[0m in \u001b[0;36m<module>\u001b[0;34m()\u001b[0m\n\u001b[1;32m      2\u001b[0m \u001b[0mt\u001b[0m \u001b[0;34m=\u001b[0m \u001b[0mtexts\u001b[0m\u001b[0;34m[\u001b[0m\u001b[0;36m0\u001b[0m\u001b[0;34m]\u001b[0m\u001b[0;34m\u001b[0m\u001b[0m\n\u001b[1;32m      3\u001b[0m \u001b[0;32mprint\u001b[0m \u001b[0mt\u001b[0m\u001b[0;34m\u001b[0m\u001b[0m\n\u001b[0;32m----> 4\u001b[0;31m \u001b[0mt_annotated\u001b[0m \u001b[0;34m=\u001b[0m \u001b[0mannotator\u001b[0m\u001b[0;34m.\u001b[0m\u001b[0mgetAnnotations\u001b[0m\u001b[0;34m(\u001b[0m\u001b[0mt\u001b[0m\u001b[0;34m,\u001b[0m \u001b[0mdep_parse\u001b[0m\u001b[0;34m=\u001b[0m\u001b[0mTrue\u001b[0m\u001b[0;34m)\u001b[0m\u001b[0;34m\u001b[0m\u001b[0m\n\u001b[0m\u001b[1;32m      5\u001b[0m \u001b[0;32mprint\u001b[0m \u001b[0mt_annotated\u001b[0m\u001b[0;34m\u001b[0m\u001b[0m\n",
      "\u001b[0;32m/usr/local/Cellar/python/2.7.10_2/Frameworks/Python.framework/Versions/2.7/lib/python2.7/site-packages/practnlptools/tools.pyc\u001b[0m in \u001b[0;36mgetAnnotations\u001b[0;34m(self, sentence, dep_parse)\u001b[0m\n\u001b[1;32m    217\u001b[0m                         \u001b[0msenna_tag\u001b[0m\u001b[0;34m=\u001b[0m\u001b[0msenna_tag\u001b[0m\u001b[0;34m.\u001b[0m\u001b[0msplit\u001b[0m\u001b[0;34m(\u001b[0m\u001b[0;34m\"\\t\"\u001b[0m\u001b[0;34m)\u001b[0m\u001b[0;34m\u001b[0m\u001b[0m\n\u001b[1;32m    218\u001b[0m                         \u001b[0mwords\u001b[0m\u001b[0;34m+=\u001b[0m\u001b[0;34m[\u001b[0m\u001b[0msenna_tag\u001b[0m\u001b[0;34m[\u001b[0m\u001b[0;36m0\u001b[0m\u001b[0;34m]\u001b[0m\u001b[0;34m.\u001b[0m\u001b[0mstrip\u001b[0m\u001b[0;34m(\u001b[0m\u001b[0;34m)\u001b[0m\u001b[0;34m]\u001b[0m\u001b[0;34m\u001b[0m\u001b[0m\n\u001b[0;32m--> 219\u001b[0;31m                         \u001b[0mpos\u001b[0m\u001b[0;34m+=\u001b[0m\u001b[0;34m[\u001b[0m\u001b[0msenna_tag\u001b[0m\u001b[0;34m[\u001b[0m\u001b[0;36m1\u001b[0m\u001b[0;34m]\u001b[0m\u001b[0;34m.\u001b[0m\u001b[0mstrip\u001b[0m\u001b[0;34m(\u001b[0m\u001b[0;34m)\u001b[0m\u001b[0;34m]\u001b[0m\u001b[0;34m\u001b[0m\u001b[0m\n\u001b[0m\u001b[1;32m    220\u001b[0m                         \u001b[0mchunk\u001b[0m\u001b[0;34m+=\u001b[0m\u001b[0;34m[\u001b[0m\u001b[0msenna_tag\u001b[0m\u001b[0;34m[\u001b[0m\u001b[0;36m2\u001b[0m\u001b[0;34m]\u001b[0m\u001b[0;34m.\u001b[0m\u001b[0mstrip\u001b[0m\u001b[0;34m(\u001b[0m\u001b[0;34m)\u001b[0m\u001b[0;34m]\u001b[0m\u001b[0;34m\u001b[0m\u001b[0m\n\u001b[1;32m    221\u001b[0m                         \u001b[0mner\u001b[0m\u001b[0;34m+=\u001b[0m\u001b[0;34m[\u001b[0m\u001b[0msenna_tag\u001b[0m\u001b[0;34m[\u001b[0m\u001b[0;36m3\u001b[0m\u001b[0;34m]\u001b[0m\u001b[0;34m.\u001b[0m\u001b[0mstrip\u001b[0m\u001b[0;34m(\u001b[0m\u001b[0;34m)\u001b[0m\u001b[0;34m]\u001b[0m\u001b[0;34m\u001b[0m\u001b[0m\n",
      "\u001b[0;31mIndexError\u001b[0m: list index out of range"
     ]
    }
   ],
   "source": [
    "texts = ['Here is a link to the DOH exemption page : Your statement should read : Our child , [ FULL NAME ] will be entering [ NAME OF SCHOOL ] as a kindergartener this Fall and we are submitting this statement in order to satisfy state immunization requirements for school entry .\\n\\nKatherine You only submit a religious exemption to the school district once your child starts school , or to their daycare if they go there or preschool , etc .\\n\\n: My son was previously vaxed and we submitted an exemption letter just this year and it was accepted .\\n\\n) Even though my 6 yr. old son is not required to receive the next  mandatory \" vaccination until 7th grade ( six years from now ) , I wanted to know if I should submit a request for a religious exemption NOW since I am pregnant and do not plan on vaccinating the new baby .']\n",
    "t = texts[0]\n",
    "print t\n",
    "t_annotated = annotator.getAnnotations(t, dep_parse=True)\n",
    "print t_annotated"
   ]
  },
  {
   "cell_type": "code",
   "execution_count": null,
   "metadata": {
    "collapsed": true
   },
   "outputs": [],
   "source": []
  }
 ],
 "metadata": {
  "kernelspec": {
   "display_name": "Python 2",
   "language": "python",
   "name": "python2"
  },
  "language_info": {
   "codemirror_mode": {
    "name": "ipython",
    "version": 2
   },
   "file_extension": ".py",
   "mimetype": "text/x-python",
   "name": "python",
   "nbconvert_exporter": "python",
   "pygments_lexer": "ipython2",
   "version": "2.7.10"
  }
 },
 "nbformat": 4,
 "nbformat_minor": 0
}
