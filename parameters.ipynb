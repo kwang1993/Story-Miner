{
 "cells": [
  {
   "cell_type": "code",
   "execution_count": null,
   "metadata": {
    "collapsed": false
   },
   "outputs": [],
   "source": [
    "#DATA_SET = \"twitter\"\n",
    "DATA_SET = \"mothering\"\n",
    "texts = []\n",
    "\n",
    "if DATA_SET == \"twitter\":\n",
    "    df = read_data(\"twitter\",\",\")#read the input sentences\n",
    "    texts = df['main_tweet'].tolist()\n",
    "    \n",
    "elif DATA_SET == \"mothering\":\n",
    "    df = read_data(\"mothering\",\"\\n\")#read the input sentences\n",
    "    texts = df['text'].tolist()"
   ]
  },
  {
   "cell_type": "code",
   "execution_count": null,
   "metadata": {
    "collapsed": true
   },
   "outputs": [],
   "source": []
  }
 ],
 "metadata": {
  "kernelspec": {
   "display_name": "Python 2",
   "language": "python",
   "name": "python2"
  },
  "language_info": {
   "codemirror_mode": {
    "name": "ipython",
    "version": 2
   },
   "file_extension": ".py",
   "mimetype": "text/x-python",
   "name": "python",
   "nbconvert_exporter": "python",
   "pygments_lexer": "ipython2",
   "version": "2.7.10"
  }
 },
 "nbformat": 4,
 "nbformat_minor": 0
}
