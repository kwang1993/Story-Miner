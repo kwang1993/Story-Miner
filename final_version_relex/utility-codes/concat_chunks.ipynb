{
 "cells": [
  {
   "cell_type": "code",
   "execution_count": 14,
   "metadata": {
    "collapsed": false
   },
   "outputs": [
    {
     "name": "stdout",
     "output_type": "stream",
     "text": [
      "['../../data/Vaccination/hoffman_output/exp_3_clean_sep/output/sents_1_relations_-1.csv', '../../data/Vaccination/hoffman_output/exp_3_clean_sep/output/sents_2_relations_-1.csv', '../../data/Vaccination/hoffman_output/exp_3_clean_sep/output/sents_3_relations_-1.csv', '../../data/Vaccination/hoffman_output/exp_3_clean_sep/output/sents_4_relations_-1.csv', '../../data/Vaccination/hoffman_output/exp_3_clean_sep/output/sents_5_relations_-1.csv', '../../data/Vaccination/hoffman_output/exp_3_clean_sep/output/sents_6_relations_-1.csv', '../../data/Vaccination/hoffman_output/exp_3_clean_sep/output/sents_7_relations_-1.csv', '../../data/Vaccination/hoffman_output/exp_3_clean_sep/output/sents_8_relations_-1.csv', '../../data/Vaccination/hoffman_output/exp_3_clean_sep/output/sents_9_relations_-1.csv', '../../data/Vaccination/hoffman_output/exp_3_clean_sep/output/sents_10_relations_-1.csv', '../../data/Vaccination/hoffman_output/exp_3_clean_sep/output/sents_11_relations_-1.csv', '../../data/Vaccination/hoffman_output/exp_3_clean_sep/output/sents_12_relations_-1.csv', '../../data/Vaccination/hoffman_output/exp_3_clean_sep/output/sents_13_relations_-1.csv', '../../data/Vaccination/hoffman_output/exp_3_clean_sep/output/sents_14_relations_-1.csv', '../../data/Vaccination/hoffman_output/exp_3_clean_sep/output/sents_15_relations_-1.csv', '../../data/Vaccination/hoffman_output/exp_3_clean_sep/output/sents_16_relations_-1.csv', '../../data/Vaccination/hoffman_output/exp_3_clean_sep/output/sents_17_relations_-1.csv', '../../data/Vaccination/hoffman_output/exp_3_clean_sep/output/sents_18_relations_-1.csv', '../../data/Vaccination/hoffman_output/exp_3_clean_sep/output/sents_19_relations_-1.csv', '../../data/Vaccination/hoffman_output/exp_3_clean_sep/output/sents_20_relations_-1.csv', '../../data/Vaccination/hoffman_output/exp_3_clean_sep/output/sents_21_relations_-1.csv', '../../data/Vaccination/hoffman_output/exp_3_clean_sep/output/sents_22_relations_-1.csv', '../../data/Vaccination/hoffman_output/exp_3_clean_sep/output/sents_23_relations_-1.csv', '../../data/Vaccination/hoffman_output/exp_3_clean_sep/output/sents_24_relations_-1.csv', '../../data/Vaccination/hoffman_output/exp_3_clean_sep/output/sents_25_relations_-1.csv', '../../data/Vaccination/hoffman_output/exp_3_clean_sep/output/sents_26_relations_-1.csv', '../../data/Vaccination/hoffman_output/exp_3_clean_sep/output/sents_27_relations_-1.csv', '../../data/Vaccination/hoffman_output/exp_3_clean_sep/output/sents_28_relations_-1.csv', '../../data/Vaccination/hoffman_output/exp_3_clean_sep/output/sents_29_relations_-1.csv', '../../data/Vaccination/hoffman_output/exp_3_clean_sep/output/sents_30_relations_-1.csv', '../../data/Vaccination/hoffman_output/exp_3_clean_sep/output/sents_31_relations_-1.csv', '../../data/Vaccination/hoffman_output/exp_3_clean_sep/output/sents_32_relations_-1.csv', '../../data/Vaccination/hoffman_output/exp_3_clean_sep/output/sents_33_relations_-1.csv', '../../data/Vaccination/hoffman_output/exp_3_clean_sep/output/sents_34_relations_-1.csv', '../../data/Vaccination/hoffman_output/exp_3_clean_sep/output/sents_35_relations_-1.csv', '../../data/Vaccination/hoffman_output/exp_3_clean_sep/output/sents_36_relations_-1.csv', '../../data/Vaccination/hoffman_output/exp_3_clean_sep/output/sents_37_relations_-1.csv', '../../data/Vaccination/hoffman_output/exp_3_clean_sep/output/sents_38_relations_-1.csv', '../../data/Vaccination/hoffman_output/exp_3_clean_sep/output/sents_39_relations_-1.csv', '../../data/Vaccination/hoffman_output/exp_3_clean_sep/output/sents_40_relations_-1.csv', '../../data/Vaccination/hoffman_output/exp_3_clean_sep/output/sents_41_relations_-1.csv', '../../data/Vaccination/hoffman_output/exp_3_clean_sep/output/sents_42_relations_-1.csv', '../../data/Vaccination/hoffman_output/exp_3_clean_sep/output/sents_43_relations_-1.csv', '../../data/Vaccination/hoffman_output/exp_3_clean_sep/output/sents_44_relations_-1.csv', '../../data/Vaccination/hoffman_output/exp_3_clean_sep/output/sents_45_relations_-1.csv', '../../data/Vaccination/hoffman_output/exp_3_clean_sep/output/sents_46_relations_-1.csv', '../../data/Vaccination/hoffman_output/exp_3_clean_sep/output/sents_47_relations_-1.csv', '../../data/Vaccination/hoffman_output/exp_3_clean_sep/output/sents_48_relations_-1.csv', '../../data/Vaccination/hoffman_output/exp_3_clean_sep/output/sents_49_relations_-1.csv', '../../data/Vaccination/hoffman_output/exp_3_clean_sep/output/sents_50_relations_-1.csv', '../../data/Vaccination/hoffman_output/exp_3_clean_sep/output/sents_51_relations_-1.csv', '../../data/Vaccination/hoffman_output/exp_3_clean_sep/output/sents_52_relations_-1.csv', '../../data/Vaccination/hoffman_output/exp_3_clean_sep/output/sents_53_relations_-1.csv', '../../data/Vaccination/hoffman_output/exp_3_clean_sep/output/sents_54_relations_-1.csv', '../../data/Vaccination/hoffman_output/exp_3_clean_sep/output/sents_55_relations_-1.csv', '../../data/Vaccination/hoffman_output/exp_3_clean_sep/output/sents_56_relations_-1.csv', '../../data/Vaccination/hoffman_output/exp_3_clean_sep/output/sents_57_relations_-1.csv', '../../data/Vaccination/hoffman_output/exp_3_clean_sep/output/sents_58_relations_-1.csv', '../../data/Vaccination/hoffman_output/exp_3_clean_sep/output/sents_59_relations_-1.csv', '../../data/Vaccination/hoffman_output/exp_3_clean_sep/output/sents_60_relations_-1.csv', '../../data/Vaccination/hoffman_output/exp_3_clean_sep/output/sents_61_relations_-1.csv', '../../data/Vaccination/hoffman_output/exp_3_clean_sep/output/sents_62_relations_-1.csv', '../../data/Vaccination/hoffman_output/exp_3_clean_sep/output/sents_63_relations_-1.csv', '../../data/Vaccination/hoffman_output/exp_3_clean_sep/output/sents_64_relations_-1.csv', '../../data/Vaccination/hoffman_output/exp_3_clean_sep/output/sents_65_relations_-1.csv', '../../data/Vaccination/hoffman_output/exp_3_clean_sep/output/sents_66_relations_-1.csv', '../../data/Vaccination/hoffman_output/exp_3_clean_sep/output/sents_67_relations_-1.csv', '../../data/Vaccination/hoffman_output/exp_3_clean_sep/output/sents_68_relations_-1.csv', '../../data/Vaccination/hoffman_output/exp_3_clean_sep/output/sents_69_relations_-1.csv', '../../data/Vaccination/hoffman_output/exp_3_clean_sep/output/sents_70_relations_-1.csv', '../../data/Vaccination/hoffman_output/exp_3_clean_sep/output/sents_71_relations_-1.csv', '../../data/Vaccination/hoffman_output/exp_3_clean_sep/output/sents_72_relations_-1.csv', '../../data/Vaccination/hoffman_output/exp_3_clean_sep/output/sents_73_relations_-1.csv', '../../data/Vaccination/hoffman_output/exp_3_clean_sep/output/sents_74_relations_-1.csv', '../../data/Vaccination/hoffman_output/exp_3_clean_sep/output/sents_75_relations_-1.csv', '../../data/Vaccination/hoffman_output/exp_3_clean_sep/output/sents_76_relations_-1.csv', '../../data/Vaccination/hoffman_output/exp_3_clean_sep/output/sents_77_relations_-1.csv', '../../data/Vaccination/hoffman_output/exp_3_clean_sep/output/sents_78_relations_-1.csv', '../../data/Vaccination/hoffman_output/exp_3_clean_sep/output/sents_79_relations_-1.csv', '../../data/Vaccination/hoffman_output/exp_3_clean_sep/output/sents_80_relations_-1.csv', '../../data/Vaccination/hoffman_output/exp_3_clean_sep/output/sents_81_relations_-1.csv', '../../data/Vaccination/hoffman_output/exp_3_clean_sep/output/sents_82_relations_-1.csv', '../../data/Vaccination/hoffman_output/exp_3_clean_sep/output/sents_83_relations_-1.csv', '../../data/Vaccination/hoffman_output/exp_3_clean_sep/output/sents_84_relations_-1.csv', '../../data/Vaccination/hoffman_output/exp_3_clean_sep/output/sents_85_relations_-1.csv', '../../data/Vaccination/hoffman_output/exp_3_clean_sep/output/sents_86_relations_-1.csv', '../../data/Vaccination/hoffman_output/exp_3_clean_sep/output/sents_87_relations_-1.csv', '../../data/Vaccination/hoffman_output/exp_3_clean_sep/output/sents_88_relations_-1.csv', '../../data/Vaccination/hoffman_output/exp_3_clean_sep/output/sents_89_relations_-1.csv', '../../data/Vaccination/hoffman_output/exp_3_clean_sep/output/sents_90_relations_-1.csv', '../../data/Vaccination/hoffman_output/exp_3_clean_sep/output/sents_91_relations_-1.csv', '../../data/Vaccination/hoffman_output/exp_3_clean_sep/output/sents_92_relations_-1.csv', '../../data/Vaccination/hoffman_output/exp_3_clean_sep/output/sents_93_relations_-1.csv', '../../data/Vaccination/hoffman_output/exp_3_clean_sep/output/sents_94_relations_-1.csv', '../../data/Vaccination/hoffman_output/exp_3_clean_sep/output/sents_95_relations_-1.csv', '../../data/Vaccination/hoffman_output/exp_3_clean_sep/output/sents_96_relations_-1.csv', '../../data/Vaccination/hoffman_output/exp_3_clean_sep/output/sents_97_relations_-1.csv', '../../data/Vaccination/hoffman_output/exp_3_clean_sep/output/sents_98_relations_-1.csv', '../../data/Vaccination/hoffman_output/exp_3_clean_sep/output/sents_99_relations_-1.csv', '../../data/Vaccination/hoffman_output/exp_3_clean_sep/output/sents_100_relations_-1.csv', '../../data/Vaccination/hoffman_output/exp_3_clean_sep/output/sents_101_relations_-1.csv', '../../data/Vaccination/hoffman_output/exp_3_clean_sep/output/sents_102_relations_-1.csv', '../../data/Vaccination/hoffman_output/exp_3_clean_sep/output/sents_103_relations_-1.csv', '../../data/Vaccination/hoffman_output/exp_3_clean_sep/output/sents_104_relations_-1.csv', '../../data/Vaccination/hoffman_output/exp_3_clean_sep/output/sents_105_relations_-1.csv', '../../data/Vaccination/hoffman_output/exp_3_clean_sep/output/sents_106_relations_-1.csv', '../../data/Vaccination/hoffman_output/exp_3_clean_sep/output/sents_107_relations_-1.csv', '../../data/Vaccination/hoffman_output/exp_3_clean_sep/output/sents_108_relations_-1.csv', '../../data/Vaccination/hoffman_output/exp_3_clean_sep/output/sents_109_relations_-1.csv', '../../data/Vaccination/hoffman_output/exp_3_clean_sep/output/sents_110_relations_-1.csv', '../../data/Vaccination/hoffman_output/exp_3_clean_sep/output/sents_111_relations_-1.csv', '../../data/Vaccination/hoffman_output/exp_3_clean_sep/output/sents_112_relations_-1.csv', '../../data/Vaccination/hoffman_output/exp_3_clean_sep/output/sents_113_relations_-1.csv', '../../data/Vaccination/hoffman_output/exp_3_clean_sep/output/sents_114_relations_-1.csv', '../../data/Vaccination/hoffman_output/exp_3_clean_sep/output/sents_115_relations_-1.csv', '../../data/Vaccination/hoffman_output/exp_3_clean_sep/output/sents_116_relations_-1.csv', '../../data/Vaccination/hoffman_output/exp_3_clean_sep/output/sents_117_relations_-1.csv', '../../data/Vaccination/hoffman_output/exp_3_clean_sep/output/sents_118_relations_-1.csv', '../../data/Vaccination/hoffman_output/exp_3_clean_sep/output/sents_119_relations_-1.csv', '../../data/Vaccination/hoffman_output/exp_3_clean_sep/output/sents_120_relations_-1.csv', '../../data/Vaccination/hoffman_output/exp_3_clean_sep/output/sents_121_relations_-1.csv', '../../data/Vaccination/hoffman_output/exp_3_clean_sep/output/sents_122_relations_-1.csv', '../../data/Vaccination/hoffman_output/exp_3_clean_sep/output/sents_123_relations_-1.csv', '../../data/Vaccination/hoffman_output/exp_3_clean_sep/output/sents_124_relations_-1.csv', '../../data/Vaccination/hoffman_output/exp_3_clean_sep/output/sents_125_relations_-1.csv', '../../data/Vaccination/hoffman_output/exp_3_clean_sep/output/sents_126_relations_-1.csv', '../../data/Vaccination/hoffman_output/exp_3_clean_sep/output/sents_127_relations_-1.csv', '../../data/Vaccination/hoffman_output/exp_3_clean_sep/output/sents_128_relations_-1.csv', '../../data/Vaccination/hoffman_output/exp_3_clean_sep/output/sents_129_relations_-1.csv', '../../data/Vaccination/hoffman_output/exp_3_clean_sep/output/sents_130_relations_-1.csv', '../../data/Vaccination/hoffman_output/exp_3_clean_sep/output/sents_131_relations_-1.csv', '../../data/Vaccination/hoffman_output/exp_3_clean_sep/output/sents_132_relations_-1.csv', '../../data/Vaccination/hoffman_output/exp_3_clean_sep/output/sents_133_relations_-1.csv', '../../data/Vaccination/hoffman_output/exp_3_clean_sep/output/sents_134_relations_-1.csv', '../../data/Vaccination/hoffman_output/exp_3_clean_sep/output/sents_135_relations_-1.csv', '../../data/Vaccination/hoffman_output/exp_3_clean_sep/output/sents_136_relations_-1.csv', '../../data/Vaccination/hoffman_output/exp_3_clean_sep/output/sents_137_relations_-1.csv', '../../data/Vaccination/hoffman_output/exp_3_clean_sep/output/sents_138_relations_-1.csv', '../../data/Vaccination/hoffman_output/exp_3_clean_sep/output/sents_139_relations_-1.csv', '../../data/Vaccination/hoffman_output/exp_3_clean_sep/output/sents_140_relations_-1.csv', '../../data/Vaccination/hoffman_output/exp_3_clean_sep/output/sents_141_relations_-1.csv', '../../data/Vaccination/hoffman_output/exp_3_clean_sep/output/sents_142_relations_-1.csv', '../../data/Vaccination/hoffman_output/exp_3_clean_sep/output/sents_143_relations_-1.csv', '../../data/Vaccination/hoffman_output/exp_3_clean_sep/output/sents_144_relations_-1.csv', '../../data/Vaccination/hoffman_output/exp_3_clean_sep/output/sents_145_relations_-1.csv', '../../data/Vaccination/hoffman_output/exp_3_clean_sep/output/sents_146_relations_-1.csv', '../../data/Vaccination/hoffman_output/exp_3_clean_sep/output/sents_147_relations_-1.csv', '../../data/Vaccination/hoffman_output/exp_3_clean_sep/output/sents_148_relations_-1.csv', '../../data/Vaccination/hoffman_output/exp_3_clean_sep/output/sents_149_relations_-1.csv', '../../data/Vaccination/hoffman_output/exp_3_clean_sep/output/sents_150_relations_-1.csv', '../../data/Vaccination/hoffman_output/exp_3_clean_sep/output/sents_151_relations_-1.csv', '../../data/Vaccination/hoffman_output/exp_3_clean_sep/output/sents_152_relations_-1.csv', '../../data/Vaccination/hoffman_output/exp_3_clean_sep/output/sents_153_relations_-1.csv', '../../data/Vaccination/hoffman_output/exp_3_clean_sep/output/sents_154_relations_-1.csv', '../../data/Vaccination/hoffman_output/exp_3_clean_sep/output/sents_155_relations_-1.csv', '../../data/Vaccination/hoffman_output/exp_3_clean_sep/output/sents_156_relations_-1.csv', '../../data/Vaccination/hoffman_output/exp_3_clean_sep/output/sents_157_relations_-1.csv', '../../data/Vaccination/hoffman_output/exp_3_clean_sep/output/sents_158_relations_-1.csv', '../../data/Vaccination/hoffman_output/exp_3_clean_sep/output/sents_159_relations_-1.csv', '../../data/Vaccination/hoffman_output/exp_3_clean_sep/output/sents_160_relations_-1.csv', '../../data/Vaccination/hoffman_output/exp_3_clean_sep/output/sents_161_relations_-1.csv', '../../data/Vaccination/hoffman_output/exp_3_clean_sep/output/sents_162_relations_-1.csv', '../../data/Vaccination/hoffman_output/exp_3_clean_sep/output/sents_163_relations_-1.csv', '../../data/Vaccination/hoffman_output/exp_3_clean_sep/output/sents_164_relations_-1.csv', '../../data/Vaccination/hoffman_output/exp_3_clean_sep/output/sents_165_relations_-1.csv', '../../data/Vaccination/hoffman_output/exp_3_clean_sep/output/sents_166_relations_-1.csv', '../../data/Vaccination/hoffman_output/exp_3_clean_sep/output/sents_167_relations_-1.csv', '../../data/Vaccination/hoffman_output/exp_3_clean_sep/output/sents_168_relations_-1.csv', '../../data/Vaccination/hoffman_output/exp_3_clean_sep/output/sents_169_relations_-1.csv', '../../data/Vaccination/hoffman_output/exp_3_clean_sep/output/sents_170_relations_-1.csv', '../../data/Vaccination/hoffman_output/exp_3_clean_sep/output/sents_171_relations_-1.csv', '../../data/Vaccination/hoffman_output/exp_3_clean_sep/output/sents_172_relations_-1.csv', '../../data/Vaccination/hoffman_output/exp_3_clean_sep/output/sents_173_relations_-1.csv', '../../data/Vaccination/hoffman_output/exp_3_clean_sep/output/sents_174_relations_-1.csv', '../../data/Vaccination/hoffman_output/exp_3_clean_sep/output/sents_175_relations_-1.csv', '../../data/Vaccination/hoffman_output/exp_3_clean_sep/output/sents_176_relations_-1.csv', '../../data/Vaccination/hoffman_output/exp_3_clean_sep/output/sents_177_relations_-1.csv', '../../data/Vaccination/hoffman_output/exp_3_clean_sep/output/sents_178_relations_-1.csv', '../../data/Vaccination/hoffman_output/exp_3_clean_sep/output/sents_179_relations_-1.csv', '../../data/Vaccination/hoffman_output/exp_3_clean_sep/output/sents_180_relations_-1.csv', '../../data/Vaccination/hoffman_output/exp_3_clean_sep/output/sents_181_relations_-1.csv', '../../data/Vaccination/hoffman_output/exp_3_clean_sep/output/sents_182_relations_-1.csv', '../../data/Vaccination/hoffman_output/exp_3_clean_sep/output/sents_183_relations_-1.csv', '../../data/Vaccination/hoffman_output/exp_3_clean_sep/output/sents_184_relations_-1.csv', '../../data/Vaccination/hoffman_output/exp_3_clean_sep/output/sents_185_relations_-1.csv', '../../data/Vaccination/hoffman_output/exp_3_clean_sep/output/sents_186_relations_-1.csv', '../../data/Vaccination/hoffman_output/exp_3_clean_sep/output/sents_187_relations_-1.csv', '../../data/Vaccination/hoffman_output/exp_3_clean_sep/output/sents_188_relations_-1.csv', '../../data/Vaccination/hoffman_output/exp_3_clean_sep/output/sents_189_relations_-1.csv', '../../data/Vaccination/hoffman_output/exp_3_clean_sep/output/sents_190_relations_-1.csv', '../../data/Vaccination/hoffman_output/exp_3_clean_sep/output/sents_191_relations_-1.csv', '../../data/Vaccination/hoffman_output/exp_3_clean_sep/output/sents_192_relations_-1.csv', '../../data/Vaccination/hoffman_output/exp_3_clean_sep/output/sents_193_relations_-1.csv', '../../data/Vaccination/hoffman_output/exp_3_clean_sep/output/sents_194_relations_-1.csv', '../../data/Vaccination/hoffman_output/exp_3_clean_sep/output/sents_195_relations_-1.csv', '../../data/Vaccination/hoffman_output/exp_3_clean_sep/output/sents_196_relations_-1.csv', '../../data/Vaccination/hoffman_output/exp_3_clean_sep/output/sents_197_relations_-1.csv', '../../data/Vaccination/hoffman_output/exp_3_clean_sep/output/sents_198_relations_-1.csv', '../../data/Vaccination/hoffman_output/exp_3_clean_sep/output/sents_199_relations_-1.csv', '../../data/Vaccination/hoffman_output/exp_3_clean_sep/output/sents_200_relations_-1.csv']\n",
      "sentence,arg1,rel,arg2,type,pattern,arg1_with_pos,rel_with_pos,arg2_with_pos,arg1_prepositions,rel_prepositions,arg2_prepositions\r\n",
      "\n"
     ]
    }
   ],
   "source": [
    "base_dir = \"../../data/Vaccination/hoffman_output/exp_3_clean_sep/\"\n",
    "chunks_loc = \"../../data/Vaccination/hoffman_output/exp_3_clean_sep/output/\"\n",
    "chunks_num = 200\n",
    "\n",
    "output_file_name = \"res_all_cat_clean.csv\"\n",
    "input_file_names = []\n",
    "for i in xrange(1,chunks_num+1):\n",
    "    input_file_names.append(chunks_loc + \"sents_\" + str(i) + \"_relations_-1.csv\")\n",
    "    \n",
    "print input_file_names\n",
    "with open(base_dir + output_file_name, 'w') as outfile:\n",
    "\n",
    "    # write the header\n",
    "    with open(input_file_names[0], 'r') as f1:\n",
    "        header = f1.readline()\n",
    "        print header\n",
    "        outfile.write(header)\n",
    "        \n",
    "    # write contents, skip the \n",
    "    for fname in input_file_names:\n",
    "        with open(fname) as infile:\n",
    "            for ind, line in enumerate(infile):\n",
    "                #skip the header\n",
    "                if ind == 0:\n",
    "                    continue\n",
    "                outfile.write(line)\n",
    "\n",
    "\n",
    "    "
   ]
  },
  {
   "cell_type": "code",
   "execution_count": 7,
   "metadata": {
    "collapsed": false
   },
   "outputs": [
    {
     "data": {
      "text/plain": [
       "'../../data/Vaccination/hoffman_output/exp_3_clean_sep/output/sents_1_relations_-1.csv'"
      ]
     },
     "execution_count": 7,
     "metadata": {},
     "output_type": "execute_result"
    }
   ],
   "source": [
    "chunks_loc+input_file_names[0]"
   ]
  },
  {
   "cell_type": "code",
   "execution_count": null,
   "metadata": {
    "collapsed": true
   },
   "outputs": [],
   "source": []
  }
 ],
 "metadata": {
  "kernelspec": {
   "display_name": "Python 2",
   "language": "python",
   "name": "python2"
  },
  "language_info": {
   "codemirror_mode": {
    "name": "ipython",
    "version": 2
   },
   "file_extension": ".py",
   "mimetype": "text/x-python",
   "name": "python",
   "nbconvert_exporter": "python",
   "pygments_lexer": "ipython2",
   "version": "2.7.10"
  }
 },
 "nbformat": 4,
 "nbformat_minor": 0
}
