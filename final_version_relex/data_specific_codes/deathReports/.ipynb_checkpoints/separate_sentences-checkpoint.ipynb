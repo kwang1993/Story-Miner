{
 "cells": [
  {
   "cell_type": "code",
   "execution_count": 1,
   "metadata": {
    "collapsed": false
   },
   "outputs": [
    {
     "data": {
      "text/plain": [
       "'\\nSteps:\\n1. Load the raw csv file\\n2. itefrom utility_functions import *rate over rows: take report1 and separate&clean its sentences - Same for report2 \\n    (Keep the index of each sentence + report number)\\n3. Save the result to file\\n'"
      ]
     },
     "execution_count": 1,
     "metadata": {},
     "output_type": "execute_result"
    }
   ],
   "source": [
    "'''\n",
    "Steps:\n",
    "1. Load the raw csv file\n",
    "2. itefrom utility_functions import *rate over rows: take report1 and separate&clean its sentences - Same for report2 \n",
    "    (Keep the index of each sentence + report number)\n",
    "3. Save the result to file\n",
    "'''"
   ]
  },
  {
   "cell_type": "code",
   "execution_count": 2,
   "metadata": {
    "collapsed": false
   },
   "outputs": [],
   "source": [
    "import pandas as pd\n",
    "\n",
    "df = pd.read_csv(\"../../../../data/DeathReports/rawnvdrs.csv\", delimiter=\",\",header=0)"
   ]
  },
  {
   "cell_type": "code",
   "execution_count": 4,
   "metadata": {
    "collapsed": false
   },
   "outputs": [],
   "source": [
    "from nltk.tokenize import sent_tokenize\n",
    "import sys\n",
    "sys.path.insert(0, '../../base_codes')\n",
    "from utility_functions import *"
   ]
  },
  {
   "cell_type": "code",
   "execution_count": 5,
   "metadata": {
    "collapsed": false
   },
   "outputs": [
    {
     "name": "stdout",
     "output_type": "stream",
     "text": [
      "0\n",
      "1\n",
      "2\n",
      "3\n",
      "4\n",
      "5\n",
      "6\n",
      "7\n",
      "8\n",
      "9\n",
      "10\n",
      "11\n",
      "12\n",
      "13\n",
      "14\n",
      "15\n",
      "16\n",
      "17\n",
      "18\n",
      "19\n",
      "20\n",
      "21\n",
      "22\n",
      "23\n",
      "24\n",
      "25\n",
      "26\n",
      "27\n",
      "28\n",
      "29\n",
      "30\n",
      "31\n",
      "32\n",
      "33\n",
      "34\n",
      "35\n",
      "36\n",
      "37\n",
      "38\n",
      "39\n",
      "40\n",
      "41\n",
      "42\n",
      "43\n",
      "44\n",
      "45\n",
      "46\n",
      "47\n",
      "48\n",
      "49\n",
      "50\n",
      "51\n",
      "52\n",
      "53\n",
      "54\n",
      "55\n",
      "56\n",
      "57\n",
      "58\n",
      "59\n",
      "60\n",
      "61\n",
      "62\n",
      "63\n",
      "64\n",
      "65\n",
      "66\n",
      "67\n",
      "68\n",
      "69\n",
      "70\n",
      "71\n",
      "72\n",
      "73\n",
      "74\n",
      "75\n",
      "76\n",
      "77\n",
      "78\n",
      "79\n",
      "80\n",
      "81\n",
      "82\n",
      "83\n",
      "84\n",
      "85\n",
      "86\n",
      "87\n",
      "88\n",
      "89\n",
      "90\n",
      "91\n",
      "92\n",
      "93\n",
      "94\n",
      "95\n",
      "96\n",
      "97\n",
      "98\n",
      "99\n",
      "100\n",
      "Cleaning Time:  1.3188560009 (seconds) -  0.0219809333483 (min)\n"
     ]
    }
   ],
   "source": [
    "import numpy as np\n",
    "import time\n",
    "new_row = defaultdict(list)\n",
    "new_df_list = []\n",
    "\n",
    "start_time = time.time()\n",
    "for ind, row in df.iterrows():\n",
    "    #if ind % 500 == 0:\n",
    "    #    print ind\n",
    "    if ind % 1000 == 0:\n",
    "        print ind\n",
    "    \n",
    "    text_report1 = row[\"Incident narrative: CME\"]\n",
    "    if text_report1 is not np.nan:\n",
    "        text_report1 = clean_sent(text_report1)\n",
    "        t1_sentences = sent_tokenize(text_report1)\n",
    "        for t_ind, t in enumerate(t1_sentences):\n",
    "            new_row = {}\n",
    "            new_row = row.copy()\n",
    "            new_row[\"Report_from_CME_or_LE\"] = \"CME\"\n",
    "            new_row[\"sentence_num\"] = t_ind\n",
    "            new_row[\"text\"] = t\n",
    "            new_df_list.append(new_row)        \n",
    "    \n",
    "    \n",
    "    text_report2 = row[\"Incident narrative: LE\"]\n",
    "    if text_report2 is not np.nan:\n",
    "        #print text_report2\n",
    "        text_report2 = clean_sent(text_report2)\n",
    "        t2_sentences = sent_tokenize(text_report2)    \n",
    "        for t_ind, t in enumerate(t2_sentences):\n",
    "            new_row = {}\n",
    "            new_row = row.copy()\n",
    "            new_row[\"Report_from_CME_or_LE\"] = \"LE\"\n",
    "            new_row[\"sentence_num\"] = t_ind\n",
    "            new_row[\"text\"] = t\n",
    "            new_df_list.append(new_row)\n",
    "        \n",
    "df_res = pd.DataFrame(new_df_list)\n",
    "\n",
    "end_time = time.time()\n",
    "print \"Cleaning Time: \", end_time-start_time , \"(seconds) - \", (end_time-start_time)/60, \"(min)\""
   ]
  },
  {
   "cell_type": "code",
   "execution_count": 6,
   "metadata": {
    "collapsed": false
   },
   "outputs": [],
   "source": [
    "base_dir = \"../../../../data/DeathReports/\"\n",
    "df_res.to_csv(base_dir + \"rawnvdrs_clean_sents.csv\",sep=',', encoding='utf-8',header=True, \n",
    "              columns=df_res.columns.tolist(),\n",
    "             index = False)"
   ]
  },
  {
   "cell_type": "code",
   "execution_count": null,
   "metadata": {
    "collapsed": true
   },
   "outputs": [],
   "source": []
  }
 ],
 "metadata": {
  "kernelspec": {
   "display_name": "Python 2",
   "language": "python",
   "name": "python2"
  },
  "language_info": {
   "codemirror_mode": {
    "name": "ipython",
    "version": 2
   },
   "file_extension": ".py",
   "mimetype": "text/x-python",
   "name": "python",
   "nbconvert_exporter": "python",
   "pygments_lexer": "ipython2",
   "version": "2.7.10"
  }
 },
 "nbformat": 4,
 "nbformat_minor": 0
}
