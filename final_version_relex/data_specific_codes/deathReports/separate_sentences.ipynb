{
 "cells": [
  {
   "cell_type": "code",
   "execution_count": 1,
   "metadata": {
    "collapsed": false
   },
   "outputs": [
    {
     "data": {
      "text/plain": [
       "'\\nSteps:\\n1. Load the raw csv file\\n2. itefrom utility_functions import *rate over rows: take report1 and separate&clean its sentences - Same for report2 \\n    (Keep the index of each sentence + report number)\\n3. Save the result to file\\n'"
      ]
     },
     "execution_count": 1,
     "metadata": {},
     "output_type": "execute_result"
    }
   ],
   "source": [
    "'''\n",
    "Steps:\n",
    "1. Load the raw csv file\n",
    "2. itefrom utility_functions import *rate over rows: take report1 and separate&clean its sentences - Same for report2 \n",
    "    (Keep the index of each sentence + report number)\n",
    "3. Save the result to file\n",
    "'''"
   ]
  },
  {
   "cell_type": "code",
   "execution_count": 2,
   "metadata": {
    "collapsed": false
   },
   "outputs": [],
   "source": [
    "import pandas as pd\n",
    "\n",
    "df = pd.read_csv(\"../../../../data/DeathReports/rawnvdrs.csv\", delimiter=\",\",header=0)"
   ]
  },
  {
   "cell_type": "code",
   "execution_count": 4,
   "metadata": {
    "collapsed": false
   },
   "outputs": [],
   "source": [
    "from nltk.tokenize import sent_tokenize\n",
    "import sys\n",
    "sys.path.insert(0, '../../base_codes')\n",
    "from utility_functions import *"
   ]
  },
  {
   "cell_type": "code",
   "execution_count": 7,
   "metadata": {
    "collapsed": false
   },
   "outputs": [
    {
     "name": "stdout",
     "output_type": "stream",
     "text": [
      "0\n",
      "1000\n",
      "2000\n",
      "3000\n",
      "4000\n",
      "5000\n",
      "6000\n",
      "7000\n",
      "8000\n",
      "9000\n",
      "10000\n",
      "11000\n",
      "12000\n",
      "13000\n",
      "14000\n",
      "15000\n",
      "16000\n",
      "17000\n",
      "18000\n",
      "19000\n",
      "20000\n",
      "21000\n",
      "22000\n",
      "23000\n",
      "24000\n",
      "25000\n",
      "26000\n",
      "27000\n",
      "28000\n",
      "29000\n",
      "30000\n",
      "31000\n",
      "32000\n",
      "33000\n",
      "34000\n",
      "35000\n",
      "36000\n",
      "37000\n",
      "38000\n",
      "39000\n",
      "40000\n",
      "41000\n",
      "42000\n",
      "43000\n",
      "44000\n",
      "45000\n",
      "46000\n",
      "47000\n",
      "48000\n",
      "49000\n",
      "50000\n",
      "51000\n",
      "52000\n",
      "53000\n",
      "54000\n",
      "55000\n",
      "56000\n",
      "57000\n",
      "58000\n",
      "59000\n",
      "60000\n",
      "61000\n",
      "62000\n",
      "63000\n",
      "64000\n",
      "65000\n",
      "66000\n",
      "67000\n",
      "68000\n",
      "69000\n",
      "70000\n",
      "71000\n",
      "72000\n",
      "73000\n",
      "74000\n",
      "75000\n",
      "76000\n",
      "77000\n",
      "78000\n",
      "79000\n",
      "80000\n",
      "81000\n",
      "82000\n",
      "83000\n",
      "84000\n",
      "85000\n",
      "86000\n",
      "87000\n",
      "88000\n",
      "89000\n",
      "90000\n",
      "91000\n",
      "92000\n",
      "93000\n",
      "94000\n",
      "95000\n",
      "96000\n",
      "97000\n",
      "98000\n",
      "99000\n",
      "100000\n",
      "101000\n",
      "102000\n",
      "103000\n",
      "104000\n",
      "105000\n",
      "106000\n",
      "107000\n",
      "108000\n",
      "109000\n",
      "110000\n",
      "111000\n",
      "112000\n",
      "113000\n",
      "114000\n",
      "115000\n",
      "116000\n",
      "117000\n",
      "118000\n",
      "119000\n",
      "120000\n",
      "121000\n",
      "122000\n",
      "123000\n",
      "124000\n",
      "125000\n",
      "126000\n",
      "127000\n",
      "128000\n",
      "129000\n",
      "130000\n",
      "131000\n",
      "132000\n",
      "133000\n",
      "134000\n",
      "135000\n",
      "136000\n",
      "137000\n",
      "138000\n",
      "139000\n",
      "140000\n",
      "141000\n",
      "142000\n",
      "143000\n",
      "144000\n",
      "145000\n",
      "146000\n",
      "147000\n",
      "148000\n",
      "149000\n",
      "150000\n",
      "151000\n",
      "152000\n",
      "153000\n",
      "154000\n",
      "155000\n",
      "156000\n",
      "157000\n",
      "158000\n",
      "159000\n",
      "160000\n",
      "161000\n",
      "162000\n",
      "163000\n",
      "164000\n",
      "165000\n",
      "166000\n",
      "167000\n",
      "168000\n",
      "169000\n",
      "170000\n",
      "171000\n",
      "172000\n",
      "Cleaning Time:  3654.02609611 (seconds) -  60.9004349351 (min)\n"
     ]
    }
   ],
   "source": [
    "import numpy as np\n",
    "import time\n",
    "new_row = defaultdict(list)\n",
    "new_df_list = []\n",
    "\n",
    "start_time = time.time()\n",
    "for ind, row in df.iterrows():\n",
    "    #if ind % 500 == 0:\n",
    "    #    print ind\n",
    "    if ind % 1000 == 0:\n",
    "        print ind\n",
    "    \n",
    "    text_report1 = row[\"Incident narrative: CME\"]\n",
    "    if text_report1 is not np.nan:\n",
    "        text_report1 = clean_sent(text_report1)\n",
    "        t1_sentences = sent_tokenize(text_report1)\n",
    "        for t_ind, t in enumerate(t1_sentences):\n",
    "            new_row = {}\n",
    "            new_row = row.copy()\n",
    "            new_row[\"Report_from_CME_or_LE\"] = \"CME\"\n",
    "            new_row[\"sentence_num\"] = t_ind\n",
    "            new_row[\"text\"] = t\n",
    "            new_df_list.append(new_row)        \n",
    "    \n",
    "    \n",
    "    text_report2 = row[\"Incident narrative: LE\"]\n",
    "    if text_report2 is not np.nan:\n",
    "        #print text_report2\n",
    "        text_report2 = clean_sent(text_report2)\n",
    "        t2_sentences = sent_tokenize(text_report2)    \n",
    "        for t_ind, t in enumerate(t2_sentences):\n",
    "            new_row = {}\n",
    "            new_row = row.copy()\n",
    "            new_row[\"Report_from_CME_or_LE\"] = \"LE\"\n",
    "            new_row[\"sentence_num\"] = t_ind\n",
    "            new_row[\"text\"] = t\n",
    "            new_df_list.append(new_row)\n",
    "        \n",
    "df_res = pd.DataFrame(new_df_list)\n",
    "\n",
    "end_time = time.time()\n",
    "print \"Cleaning Time: \", end_time-start_time , \"(seconds) - \", (end_time-start_time)/60, \"(min)\""
   ]
  },
  {
   "cell_type": "code",
   "execution_count": 10,
   "metadata": {
    "collapsed": false
   },
   "outputs": [],
   "source": [
    "base_dir = \"../../../../data/DeathReports/\"\n",
    "df_res.to_csv(base_dir + \"rawnvdrs_clean_sents_without_posts.csv\",sep=',', encoding='utf-8',header=True, \n",
    "              columns= [a for a in df_res.columns.tolist() if a not in [\"Incident narrative: CME\", \"Incident narrative: LE\"]],\n",
    "             index = False)"
   ]
  },
  {
   "cell_type": "code",
   "execution_count": 11,
   "metadata": {
    "collapsed": false
   },
   "outputs": [
    {
     "data": {
      "text/plain": [
       "2158997"
      ]
     },
     "execution_count": 11,
     "metadata": {},
     "output_type": "execute_result"
    }
   ],
   "source": [
    "len(df_res)"
   ]
  },
  {
   "cell_type": "code",
   "execution_count": 14,
   "metadata": {
    "collapsed": false
   },
   "outputs": [
    {
     "data": {
      "text/html": [
       "<div>\n",
       "<table border=\"1\" class=\"dataframe\">\n",
       "  <thead>\n",
       "    <tr style=\"text-align: right;\">\n",
       "      <th></th>\n",
       "      <th>Person ID (victim)</th>\n",
       "      <th>Year in which the incident occurred</th>\n",
       "      <th>Age of victim (must use with AgeUnit)</th>\n",
       "      <th>Race and ethnicity of victim (combined)</th>\n",
       "      <th>Marital status of the victim</th>\n",
       "      <th>Sexual orientation (includes gay, lesbian, or bisexual)</th>\n",
       "      <th>Victim self-identifies as transgender or a friend/family member reports that the victim self-identified as transgender</th>\n",
       "      <th>Biological sex of the victim</th>\n",
       "      <th>Circumstance (0/1): Victim was perceived by self or others to be depressed at the time of the injury</th>\n",
       "      <th>Incident narrative: CME</th>\n",
       "      <th>Incident narrative: LE</th>\n",
       "      <th>Type of death</th>\n",
       "      <th>Report_from_CME_or_LE</th>\n",
       "      <th>sentence_num</th>\n",
       "      <th>text</th>\n",
       "    </tr>\n",
       "  </thead>\n",
       "  <tbody>\n",
       "    <tr>\n",
       "      <th>172070</th>\n",
       "      <td>332266</td>\n",
       "      <td>2014</td>\n",
       "      <td>50</td>\n",
       "      <td>White, non-Hispanic</td>\n",
       "      <td>Married/Civil Union/Domestic Pa</td>\n",
       "      <td>Unknown</td>\n",
       "      <td>False</td>\n",
       "      <td>Male</td>\n",
       "      <td>0</td>\n",
       "      <td>The skeletal remains of V, a 50 year old white...</td>\n",
       "      <td>The skeletal remains of V, a 49 year old white...</td>\n",
       "      <td>suicide</td>\n",
       "      <td>LE</td>\n",
       "      <td>17</td>\n",
       "      <td>Nothing further to report.</td>\n",
       "    </tr>\n",
       "  </tbody>\n",
       "</table>\n",
       "</div>"
      ],
      "text/plain": [
       "        Person ID (victim)  Year in which the incident occurred  \\\n",
       "172070              332266                                 2014   \n",
       "\n",
       "       Age of victim (must use with AgeUnit)  \\\n",
       "172070                                    50   \n",
       "\n",
       "       Race and ethnicity of victim (combined)  \\\n",
       "172070                     White, non-Hispanic   \n",
       "\n",
       "           Marital status of the victim  \\\n",
       "172070  Married/Civil Union/Domestic Pa   \n",
       "\n",
       "       Sexual orientation (includes gay, lesbian, or bisexual)  \\\n",
       "172070                                            Unknown        \n",
       "\n",
       "       Victim self-identifies as transgender or a friend/family member reports that the victim self-identified as transgender  \\\n",
       "172070                                              False                                                                       \n",
       "\n",
       "       Biological sex of the victim  \\\n",
       "172070                         Male   \n",
       "\n",
       "        Circumstance (0/1): Victim was perceived by self or others to be depressed at the time of the injury  \\\n",
       "172070                                                  0                                                      \n",
       "\n",
       "                                  Incident narrative: CME  \\\n",
       "172070  The skeletal remains of V, a 50 year old white...   \n",
       "\n",
       "                                   Incident narrative: LE Type of death  \\\n",
       "172070  The skeletal remains of V, a 49 year old white...       suicide   \n",
       "\n",
       "       Report_from_CME_or_LE  sentence_num                        text  \n",
       "172070                    LE            17  Nothing further to report.  "
      ]
     },
     "execution_count": 14,
     "metadata": {},
     "output_type": "execute_result"
    }
   ],
   "source": [
    "df_res[2158995:2158996]"
   ]
  },
  {
   "cell_type": "code",
   "execution_count": null,
   "metadata": {
    "collapsed": true
   },
   "outputs": [],
   "source": []
  }
 ],
 "metadata": {
  "kernelspec": {
   "display_name": "Python 2",
   "language": "python",
   "name": "python2"
  },
  "language_info": {
   "codemirror_mode": {
    "name": "ipython",
    "version": 2
   },
   "file_extension": ".py",
   "mimetype": "text/x-python",
   "name": "python",
   "nbconvert_exporter": "python",
   "pygments_lexer": "ipython2",
   "version": "2.7.10"
  }
 },
 "nbformat": 4,
 "nbformat_minor": 0
}
