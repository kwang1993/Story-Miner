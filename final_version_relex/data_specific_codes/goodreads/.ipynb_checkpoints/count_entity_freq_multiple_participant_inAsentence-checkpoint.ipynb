{
 "cells": [
  {
   "cell_type": "code",
   "execution_count": 33,
   "metadata": {
    "collapsed": false
   },
   "outputs": [
    {
     "name": "stderr",
     "output_type": "stream",
     "text": [
      "Skipping line 5469: expected 1 fields, saw 2\n",
      "\n"
     ]
    }
   ],
   "source": [
    "import pandas as pd\n",
    "from nltk.tokenize import sent_tokenize\n",
    "import sys\n",
    "sys.path.insert(0, '../../base_codes')\n",
    "from utility_functions import *\n",
    "import csv\n",
    "\n",
    "\n",
    "\n",
    "\n",
    "#base_dir = \"../../../../data/GoodReads/revised_pronoun_1Jun2017/\"\n",
    "base_dir = \"../../../../data/GoodReads/Raw_data_no_pronoun/Data_raw_goodreads/\"\n",
    "\n",
    "\n",
    "#input_file_name = \"Of Mice and Men_raw_en\"  #\"Of Mice and Men_raw_en\" #\"mice_and_men0601\"\n",
    "#input_file_name = \"The Hobbit (Middle-Earth Universe)_raw_en\"#\"hobbit0601\"#\"The Hobbit (Middle-Earth Universe)_raw_en\"\n",
    "#input_file_name = \"Frankenstein_raw_en\"# \"Frankenstein_raw_en\" #\"frankenstein0601\"\n",
    "input_file_name = \"To Kill a Mockingbird_raw_en\"#\"To Kill a Mockingbird_raw_en\" #\"mockingbird0601\"\n",
    "\n",
    "input_file = input_file_name + \".txt\"\n",
    "\n",
    "#DATA_SET = 'goodreads-Mice-and-men'\n",
    "#DATA_SET = 'goodreads-Hobbit'\n",
    "#DATA_SET = 'goodreads-Frankenstein'\n",
    "DATA_SET = 'goodreads-Mockingbird'\n",
    "\n",
    "df = pd.read_csv(base_dir+input_file, delimiter=\"\\n\", header=0, error_bad_lines=False)"
   ]
  },
  {
   "cell_type": "code",
   "execution_count": 34,
   "metadata": {
    "collapsed": false
   },
   "outputs": [],
   "source": [
    "def get_participant_entities(sent, entity_versions, entity_versions_reverse_dict, list_all_entity_versions_sorted): \n",
    "    res_list_of_entities = []\n",
    "    for entv_item in list_all_entity_versions_sorted:\n",
    "        #if it is already in the sentence skip it.\n",
    "        if entity_versions_reverse_dict[entv_item] in res_list_of_entities:\n",
    "            continue\n",
    "        if entv_item in sent:\n",
    "            entv_item_as_separate_words = False\n",
    "            # if it appears as separate words inside the text\n",
    "            if (\" \" + entv_item + \" \") in sent:\n",
    "                entv_item_as_separate_words = True\n",
    "            # if it appears as separate words at first\n",
    "            if not entv_item_as_separate_words: \n",
    "                ind_first_match = sent.find(entv_item+\" \")\n",
    "                if ind_first_match == 0:\n",
    "                    entv_item_as_separate_words = True\n",
    "            # if it appears as separate words at the end\n",
    "            if not entv_item_as_separate_words:\n",
    "                ind_last_match = sent.rfind(\" \"+entv_item)\n",
    "                if ind_last_match + len(entv_item) + 1 == len(sent):\n",
    "                    entv_item_as_separate_words = True\n",
    "            if entv_item_as_separate_words:\n",
    "                res_list_of_entities.append(entity_versions_reverse_dict[entv_item])\n",
    "                sent.replace(entv_item,\"\").strip()\n",
    "                \n",
    "    return res_list_of_entities\n",
    "                "
   ]
  },
  {
   "cell_type": "code",
   "execution_count": 35,
   "metadata": {
    "collapsed": false
   },
   "outputs": [],
   "source": [
    "entity_versions = get_entity_versions(DATA_SET)\n",
    "entity_versions_reverse_dict = defaultdict(list)\n",
    "list_all_entity_versions = []\n",
    "\n",
    "for ent_glob_name, ent_version_list in entity_versions.iteritems():\n",
    "    list_all_entity_versions += ent_version_list\n",
    "    for entv_item in ent_version_list:\n",
    "        entity_versions_reverse_dict[entv_item] = ent_glob_name\n",
    "\n",
    "list_all_entity_versions_sorted = sorted(list_all_entity_versions, key=len, reverse=True)        \n",
    "res_count = Counter()\n",
    "num_sentences = 0\n",
    "\n",
    "for ind, row in df.iterrows():   \n",
    "    post = row.values[0]\n",
    "    post = clean_sent(post)\n",
    "    post = post.lower()\n",
    "    sentences = sent_tokenize(post)\n",
    "    for sent in sentences:\n",
    "        num_sentences += 1\n",
    "        sent = sent.translate(None, string.punctuation)\n",
    "        list_participant_entities = get_participant_entities(sent, entity_versions, \n",
    "                                                             entity_versions_reverse_dict,\n",
    "                                                            list_all_entity_versions_sorted)\n",
    "        if len(list_participant_entities) > 1:\n",
    "            for ent in list_participant_entities:\n",
    "                res_count[ent] += 1\n"
   ]
  },
  {
   "cell_type": "code",
   "execution_count": 36,
   "metadata": {
    "collapsed": false
   },
   "outputs": [
    {
     "name": "stdout",
     "output_type": "stream",
     "text": [
      "number of sentences:  43216\n"
     ]
    },
    {
     "data": {
      "text/plain": [
       "[('frankenstein', 4606),\n",
       " ('monster', 4259),\n",
       " ('walton', 328),\n",
       " ('elizabeth', 304),\n",
       " ('henry', 171),\n",
       " ('alphonse frankenstein', 152),\n",
       " ('female monster', 142),\n",
       " ('caroline', 90),\n",
       " ('william', 86),\n",
       " ('justine moritz', 69),\n",
       " ('dracula', 60),\n",
       " ('margaret saville', 24),\n",
       " ('waldman', 4),\n",
       " ('krempe', 2),\n",
       " ('beaufort', 2)]"
      ]
     },
     "execution_count": 36,
     "metadata": {},
     "output_type": "execute_result"
    }
   ],
   "source": [
    "print \"number of sentences: \", num_sentences\n",
    "res_count.most_common()"
   ]
  },
  {
   "cell_type": "code",
   "execution_count": null,
   "metadata": {
    "collapsed": true
   },
   "outputs": [],
   "source": []
  }
 ],
 "metadata": {
  "kernelspec": {
   "display_name": "Python 2",
   "language": "python",
   "name": "python2"
  },
  "language_info": {
   "codemirror_mode": {
    "name": "ipython",
    "version": 2
   },
   "file_extension": ".py",
   "mimetype": "text/x-python",
   "name": "python",
   "nbconvert_exporter": "python",
   "pygments_lexer": "ipython2",
   "version": "2.7.10"
  }
 },
 "nbformat": 4,
 "nbformat_minor": 0
}
