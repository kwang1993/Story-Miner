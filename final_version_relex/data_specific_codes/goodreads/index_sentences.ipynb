{
 "cells": [
  {
   "cell_type": "code",
   "execution_count": 56,
   "metadata": {
    "collapsed": false
   },
   "outputs": [],
   "source": [
    "import pandas as pd\n",
    "from nltk.tokenize import sent_tokenize\n",
    "import sys\n",
    "sys.path.insert(0, '../../base_codes')\n",
    "from utility_functions import *\n",
    "import csv\n",
    "\n",
    "base_dir = \"../../../../data/GoodReads/revised_pronoun_1Jun2017/results/Mice_and_men/\"\n",
    "input_file_name = \"MiceMen_plot_no_pronoun\"\n",
    "input_file = input_file_name + \".txt\"\n",
    "\n",
    "\n",
    "df = pd.read_csv(base_dir+input_file, delimiter=\"\\n\", header=0)"
   ]
  },
  {
   "cell_type": "code",
   "execution_count": 57,
   "metadata": {
    "collapsed": false
   },
   "outputs": [],
   "source": [
    "text = clean_sent(df.values[0][0])\n",
    "t_sentences = sent_tokenize(text)"
   ]
  },
  {
   "cell_type": "code",
   "execution_count": 75,
   "metadata": {
    "collapsed": false
   },
   "outputs": [],
   "source": [
    "with open(base_dir+\"indexed_sentences_\"+input_file_name+\".csv\", 'wb') as csv_file:\n",
    "    csv_writer = csv.writer(csv_file, delimiter=',')#, quotechar='|', quoting=csv.QUOTE_MINIMAL)\n",
    "    for ind, item in enumerate(t_sentences):\n",
    "        csv_writer.writerow([ind, item])"
   ]
  },
  {
   "cell_type": "code",
   "execution_count": null,
   "metadata": {
    "collapsed": true
   },
   "outputs": [],
   "source": []
  }
 ],
 "metadata": {
  "kernelspec": {
   "display_name": "Python 2",
   "language": "python",
   "name": "python2"
  },
  "language_info": {
   "codemirror_mode": {
    "name": "ipython",
    "version": 2
   },
   "file_extension": ".py",
   "mimetype": "text/x-python",
   "name": "python",
   "nbconvert_exporter": "python",
   "pygments_lexer": "ipython2",
   "version": "2.7.10"
  }
 },
 "nbformat": 4,
 "nbformat_minor": 0
}
