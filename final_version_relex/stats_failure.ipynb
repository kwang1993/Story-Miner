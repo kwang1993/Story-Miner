{
 "cells": [
  {
   "cell_type": "code",
   "execution_count": 37,
   "metadata": {
    "collapsed": false
   },
   "outputs": [],
   "source": [
    "%run init.py\n",
    "%run main_functions.py\n",
    "%run utility_functions.py\n",
    "data_dir = \"../../data/\"\n",
    "DATA_SET = \"mothering\"\n",
    "texts = []\n",
    "based_dir = data_dir + 'Vaccination/'\n",
    "output_dir = based_dir + 'output/'\n",
    "#file_input_name = 'sents.txt'\n",
    "#file_input_name = 'sent_cdb_child_exemption.txt'\n",
    "file_input = based_dir + file_input_name\n",
    "df = read_data(file_input,\"mothering\",\"\\n\")#read the input sentences\n",
    "texts = df['text'].tolist()"
   ]
  },
  {
   "cell_type": "code",
   "execution_count": 4,
   "metadata": {
    "collapsed": false
   },
   "outputs": [],
   "source": [
    "%run init.py\n",
    "%run main_functions.py\n",
    "%run utility_functions.py\n",
    "data_dir = \"../../data/\"\n",
    "based_dir = data_dir + 'Vaccination/'\n",
    "output_dir = based_dir + 'output/'\n",
    "file_input_name = 'output_relations_child_exemption_svo.csv'#'allsentrels.csv'\n",
    "file_input = based_dir + file_input_name\n",
    "df2 = pd.read_csv(file_input,delimiter=',',header=0,error_bad_lines=False)   \n",
    "texts = df2[\"sentence\"].tolist()"
   ]
  },
  {
   "cell_type": "code",
   "execution_count": 5,
   "metadata": {
    "collapsed": false
   },
   "outputs": [
    {
     "name": "stdout",
     "output_type": "stream",
     "text": [
      "0\n",
      "1000\n",
      "2000\n",
      "3000\n",
      "4000\n",
      "len > 380 I would never allow another vaccine period... they all have issues.. there is no such thing as a good vaccine... the likeliehood of catching all the disease we vaccinate for is very small.. not every child will be exposed to all of these diseases naturally... but they are when we vaccinate.. that and more.. many of these supposedly dreaded diseases are mild for the average healthy child.. in any of these diseases there is only a small percentage of people who will suffer negative outcomes.. and without vaccines we would n't have the very real 1 in 50 kids with neurological and autoimmune problems... dont ' get any more vaccines .. it 's not going to kill you but the vaccine can , you ca n't undo a vaccine , you ca n't take it out... do n't be scared of your own immune system.. the people who 's livliehood depends on vaccines will say anything to scare you because they depend on you being scared.. same thing with measles and mumps.. were mild.. doctors would not even be concerned if you called and said \" little johnny has the measles \" because it was rarely ever a problem.. untill the vaccine came out.. then all of a sudden.. it 's all deadly.. bullhorn...rubella i may be concerned about but no way would i vaccinate for it... health hygene sanitation , quarentine are the only sure ways to control disease.. you ca n't control disease with an injection.. .. they only thing they control with vaccines is you.. and the destruction of your rights to say what goes on with your body... and thier profits and jobs... we have an unbelieveable amount of children that are being systematically injured and the numbers coincide and increase right along with this really bad medical program they force on every child in this country.. go find some exemption forms and keep reading... the insert that comes with the vaccine even states brain inflammation is a side effect of the vaccine... P in pertussis stands for POISON because the P in pertussis vaccines is not contracted by natural route of infection but injected into the muscle which then travels straight to the brain !\n",
      "len > 380 I would never allow another vaccine period... they all have issues.. there is no such thing as a good vaccine... the likeliehood of catching all the disease we vaccinate for is very small.. not every child will be exposed to all of these diseases naturally... but they are when we vaccinate.. that and more.. many of these supposedly dreaded diseases are mild for the average healthy child.. in any of these diseases there is only a small percentage of people who will suffer negative outcomes.. and without vaccines we would n't have the very real 1 in 50 kids with neurological and autoimmune problems... dont ' get any more vaccines .. it 's not going to kill you but the vaccine can , you ca n't undo a vaccine , you ca n't take it out... do n't be scared of your own immune system.. the people who 's livliehood depends on vaccines will say anything to scare you because they depend on you being scared.. same thing with measles and mumps.. were mild.. doctors would not even be concerned if you called and said \" little johnny has the measles \" because it was rarely ever a problem.. untill the vaccine came out.. then all of a sudden.. it 's all deadly.. bullhorn...rubella i may be concerned about but no way would i vaccinate for it... health hygene sanitation , quarentine are the only sure ways to control disease.. you ca n't control disease with an injection.. .. they only thing they control with vaccines is you.. and the destruction of your rights to say what goes on with your body... and thier profits and jobs... we have an unbelieveable amount of children that are being systematically injured and the numbers coincide and increase right along with this really bad medical program they force on every child in this country.. go find some exemption forms and keep reading... the insert that comes with the vaccine even states brain inflammation is a side effect of the vaccine... P in pertussis stands for POISON because the P in pertussis vaccines is not contracted by natural route of infection but injected into the muscle which then travels straight to the brain !\n",
      "len > 380 I would never allow another vaccine period... they all have issues.. there is no such thing as a good vaccine... the likeliehood of catching all the disease we vaccinate for is very small.. not every child will be exposed to all of these diseases naturally... but they are when we vaccinate.. that and more.. many of these supposedly dreaded diseases are mild for the average healthy child.. in any of these diseases there is only a small percentage of people who will suffer negative outcomes.. and without vaccines we would n't have the very real 1 in 50 kids with neurological and autoimmune problems... dont ' get any more vaccines .. it 's not going to kill you but the vaccine can , you ca n't undo a vaccine , you ca n't take it out... do n't be scared of your own immune system.. the people who 's livliehood depends on vaccines will say anything to scare you because they depend on you being scared.. same thing with measles and mumps.. were mild.. doctors would not even be concerned if you called and said \" little johnny has the measles \" because it was rarely ever a problem.. untill the vaccine came out.. then all of a sudden.. it 's all deadly.. bullhorn...rubella i may be concerned about but no way would i vaccinate for it... health hygene sanitation , quarentine are the only sure ways to control disease.. you ca n't control disease with an injection.. .. they only thing they control with vaccines is you.. and the destruction of your rights to say what goes on with your body... and thier profits and jobs... we have an unbelieveable amount of children that are being systematically injured and the numbers coincide and increase right along with this really bad medical program they force on every child in this country.. go find some exemption forms and keep reading... the insert that comes with the vaccine even states brain inflammation is a side effect of the vaccine... P in pertussis stands for POISON because the P in pertussis vaccines is not contracted by natural route of infection but injected into the muscle which then travels straight to the brain !\n",
      "5000\n",
      "6000\n",
      "len > 380 I would never allow another vaccine period... they all have issues.. there is no such thing as a good vaccine... the likeliehood of catching all the disease we vaccinate for is very small.. not every child will be exposed to all of these diseases naturally... but they are when we vaccinate.. that and more.. many of these supposedly dreaded diseases are mild for the average healthy child.. in any of these diseases there is only a small percentage of people who will suffer negative outcomes.. and without vaccines we would n't have the very real 1 in 50 kids with neurological and autoimmune problems... dont ' get any more vaccines .. it 's not going to kill you but the vaccine can , you ca n't undo a vaccine , you ca n't take it out... do n't be scared of your own immune system.. the people who 's livliehood depends on vaccines will say anything to scare you because they depend on you being scared.. same thing with measles and mumps.. were mild.. doctors would not even be concerned if you called and said \" little johnny has the measles \" because it was rarely ever a problem.. untill the vaccine came out.. then all of a sudden.. it 's all deadly.. bullhorn...rubella i may be concerned about but no way would i vaccinate for it... health hygene sanitation , quarentine are the only sure ways to control disease.. you ca n't control disease with an injection.. .. they only thing they control with vaccines is you.. and the destruction of your rights to say what goes on with your body... and thier profits and jobs... we have an unbelieveable amount of children that are being systematically injured and the numbers coincide and increase right along with this really bad medical program they force on every child in this country.. go find some exemption forms and keep reading... the insert that comes with the vaccine even states brain inflammation is a side effect of the vaccine... P in pertussis stands for POISON because the P in pertussis vaccines is not contracted by natural route of infection but injected into the muscle which then travels straight to the brain !\n",
      "len > 380 I would never allow another vaccine period... they all have issues.. there is no such thing as a good vaccine... the likeliehood of catching all the disease we vaccinate for is very small.. not every child will be exposed to all of these diseases naturally... but they are when we vaccinate.. that and more.. many of these supposedly dreaded diseases are mild for the average healthy child.. in any of these diseases there is only a small percentage of people who will suffer negative outcomes.. and without vaccines we would n't have the very real 1 in 50 kids with neurological and autoimmune problems... dont ' get any more vaccines .. it 's not going to kill you but the vaccine can , you ca n't undo a vaccine , you ca n't take it out... do n't be scared of your own immune system.. the people who 's livliehood depends on vaccines will say anything to scare you because they depend on you being scared.. same thing with measles and mumps.. were mild.. doctors would not even be concerned if you called and said \" little johnny has the measles \" because it was rarely ever a problem.. untill the vaccine came out.. then all of a sudden.. it 's all deadly.. bullhorn...rubella i may be concerned about but no way would i vaccinate for it... health hygene sanitation , quarentine are the only sure ways to control disease.. you ca n't control disease with an injection.. .. they only thing they control with vaccines is you.. and the destruction of your rights to say what goes on with your body... and thier profits and jobs... we have an unbelieveable amount of children that are being systematically injured and the numbers coincide and increase right along with this really bad medical program they force on every child in this country.. go find some exemption forms and keep reading... the insert that comes with the vaccine even states brain inflammation is a side effect of the vaccine... P in pertussis stands for POISON because the P in pertussis vaccines is not contracted by natural route of infection but injected into the muscle which then travels straight to the brain !\n",
      "len > 380 I would never allow another vaccine period... they all have issues.. there is no such thing as a good vaccine... the likeliehood of catching all the disease we vaccinate for is very small.. not every child will be exposed to all of these diseases naturally... but they are when we vaccinate.. that and more.. many of these supposedly dreaded diseases are mild for the average healthy child.. in any of these diseases there is only a small percentage of people who will suffer negative outcomes.. and without vaccines we would n't have the very real 1 in 50 kids with neurological and autoimmune problems... dont ' get any more vaccines .. it 's not going to kill you but the vaccine can , you ca n't undo a vaccine , you ca n't take it out... do n't be scared of your own immune system.. the people who 's livliehood depends on vaccines will say anything to scare you because they depend on you being scared.. same thing with measles and mumps.. were mild.. doctors would not even be concerned if you called and said \" little johnny has the measles \" because it was rarely ever a problem.. untill the vaccine came out.. then all of a sudden.. it 's all deadly.. bullhorn...rubella i may be concerned about but no way would i vaccinate for it... health hygene sanitation , quarentine are the only sure ways to control disease.. you ca n't control disease with an injection.. .. they only thing they control with vaccines is you.. and the destruction of your rights to say what goes on with your body... and thier profits and jobs... we have an unbelieveable amount of children that are being systematically injured and the numbers coincide and increase right along with this really bad medical program they force on every child in this country.. go find some exemption forms and keep reading... the insert that comes with the vaccine even states brain inflammation is a side effect of the vaccine... P in pertussis stands for POISON because the P in pertussis vaccines is not contracted by natural route of infection but injected into the muscle which then travels straight to the brain !\n",
      "len > 380 I would never allow another vaccine period... they all have issues.. there is no such thing as a good vaccine... the likeliehood of catching all the disease we vaccinate for is very small.. not every child will be exposed to all of these diseases naturally... but they are when we vaccinate.. that and more.. many of these supposedly dreaded diseases are mild for the average healthy child.. in any of these diseases there is only a small percentage of people who will suffer negative outcomes.. and without vaccines we would n't have the very real 1 in 50 kids with neurological and autoimmune problems... dont ' get any more vaccines .. it 's not going to kill you but the vaccine can , you ca n't undo a vaccine , you ca n't take it out... do n't be scared of your own immune system.. the people who 's livliehood depends on vaccines will say anything to scare you because they depend on you being scared.. same thing with measles and mumps.. were mild.. doctors would not even be concerned if you called and said \" little johnny has the measles \" because it was rarely ever a problem.. untill the vaccine came out.. then all of a sudden.. it 's all deadly.. bullhorn...rubella i may be concerned about but no way would i vaccinate for it... health hygene sanitation , quarentine are the only sure ways to control disease.. you ca n't control disease with an injection.. .. they only thing they control with vaccines is you.. and the destruction of your rights to say what goes on with your body... and thier profits and jobs... we have an unbelieveable amount of children that are being systematically injured and the numbers coincide and increase right along with this really bad medical program they force on every child in this country.. go find some exemption forms and keep reading... the insert that comes with the vaccine even states brain inflammation is a side effect of the vaccine... P in pertussis stands for POISON because the P in pertussis vaccines is not contracted by natural route of infection but injected into the muscle which then travels straight to the brain !\n"
     ]
    }
   ],
   "source": [
    "count_tokenizer_failure = 0\n",
    "sent_len = defaultdict(int)\n",
    "for ind, t_orig in enumerate(texts):\n",
    "    if ind % 1000 == 0:\n",
    "        print ind\n",
    "    t_sentences = []\n",
    "    \n",
    "    try:\n",
    "        # replacing - with space -> since most of the time tokenazer fails with the presence of -\n",
    "        t_orig = t_orig.replace(\"-\",\" \")\n",
    "        #t_orig = change_nt_to_not(t_orig)\n",
    "        # tokenizing the sentence\n",
    "        t_sentences = sent_tokenize(t_orig)\n",
    "        for t in t_sentences:\n",
    "            tokens = nltk.word_tokenize(t)\n",
    "            t_len = len(tokens)\n",
    "            if t_len == 1:\n",
    "                print \"len : 1\", t\n",
    "            if t_len > 380:\n",
    "                print \"len > 380\", t\n",
    "            if t_len in sent_len.keys():\n",
    "                sent_len[t_len] += 1\n",
    "            else:\n",
    "                sent_len[t_len] = 1\n",
    "    except:\n",
    "        count_tokenizer_failure += 1\n",
    "        #print \"error\"\n",
    "        \n",
    "        "
   ]
  },
  {
   "cell_type": "code",
   "execution_count": 6,
   "metadata": {
    "collapsed": false
   },
   "outputs": [
    {
     "data": {
      "text/plain": [
       "0"
      ]
     },
     "execution_count": 6,
     "metadata": {},
     "output_type": "execute_result"
    }
   ],
   "source": [
    "count_tokenizer_failure"
   ]
  },
  {
   "cell_type": "code",
   "execution_count": 52,
   "metadata": {
    "collapsed": false
   },
   "outputs": [],
   "source": [
    "t_orig = \"\"\"Did anyone read this book? I want to get it because it sounds really good. (It sounds like it includes everything I have been interested in since I have started researching vaccines two years ago.) Anyone have anyone input on it, and whether you found it useful or not? TIA! Yes, I have it.  It's quite good in that it covers how to treat VPD's naturally. \n",
    "I found it wasn't the BEST book I have on the subject, but did have some valuable information in it. \n",
    "Which book do you think is the best? It's a self published book, and it doesn't seem like she hired an editor. The grammatical errors were distracting and annoying.  \n",
    "She writes a lot about homeopathic treatments. At the time I read the book, I was not open to that, so the book wasn't very interesting to me. I read the book several years ago, \n",
    "but from what I remember, she gives the impression that homeopathy is necessary to treat the illnesses, which I know from experience is not the case. \n",
    "I like Avvvia Jill Romms book and Sherri Tenpenny's book. \n",
    "Mayer Eisensteins new book is great too. \n",
    "Lydall's book is more about alternative treatments vs lots of specific vax info. I found this book to be so poorly done. \n",
    "It's all over the place. Obviously she had no editor. I wasn't at all satisfied with the little bit that actually addressed how to raise a vaccine free child. \n",
    "I like Prescription for Nutritional Healing. \n",
    "I just ordered this book on Amazon as well as a couple others....Prescription for Nutritional Healing is on my list for the next time I make an order\n",
    ".....As well as several others....  I've heard a lot of good things about her book from another site....so it sounds like some love it some dont....\n",
    "I'll have to see what I feel about it when it gets here  I like it. While \n",
    "I'm not really into homeopathy, her book is written from the perspective of someone who has actually treated these disease, so she's able to breakdown what to expect in a normal course of illness. \n",
    "I'm just wondering what you mean when you say homeopathy is not necessary to treat the illnesses. \n",
    "Are you saying you don't need any intervention at all with some illnesses? \n",
    "It sounds like you have some experience so I would love to hear it! I'll take all the advice I can get being a new mom  Hmm, I have to disagree. \n",
    "While she is candid about her belief in homeopathy, in the section that discusses \n",
    "treating a child with each of the diseases, the majority of it is palliative care. pm me, I will send it to you for the cost of the mailing. I do not think it is very good. I don't get, why do we need a special book on raising a kid vax free? My kid is already an adult, I didn't do anything special just because we didn't vax. nm   Edited by Genesis - 2/22/11 at 4:00pm  Naturally Healthy Babies and Children: \n",
    "        A Commonsense Guide to Herbal Remedies, Nutrition, and Health by Aviva Jill Romm  Smart Medicine for a Healthier Child by Janet Zand  I love both of those books. The 2nd one is nice because it gives you 3 ways to treat a disease (modern med, homeopathy, and bach flower essences). It tells you what symptoms indicate it is time for intervention (modern med). not at all. \n",
    "        she explicity says that homeopathy is not needed in childhood diseases (she makes a difference between childhood diseases and infectious diseases, at it should be) \n",
    "        and that in most cases it is best to leave the disease take its course with rest, fluids and without suppressing occuring fevers.  sorry, my above reply was meant for:         \n",
    "        I get what you are staying, but the book goes into treating VADs which for some is useful. I have read the book and it is okay. \n",
    "        My unvaxed kids have reached the teen and pre-teen stage, and by the time you get there with unvaxed kids, I think you realize that there is nothing special needed.   \n",
    "        Great book suggestions! Thanks!\"\"\"\n",
    "\n",
    "\n",
    "t_orig = \"\"\"I would never allow another vaccine period... they all have issues.. there is no such thing as a good vaccine... the likeliehood of catching all the disease we vaccinate for is very small.. not every child will be exposed to all of these diseases naturally... but they are when we vaccinate.. that and more.. many of these supposedly dreaded diseases are mild for the average healthy child.. in any of these diseases there is only a small percentage of people who will suffer negative outcomes.. and without vaccines we would n't have the very real 1 in 50 kids with neurological and autoimmune problems... dont ' get any more vaccines .. it 's not going to kill you but the vaccine can , you ca n't undo a vaccine , you ca n't take it out... do n't be scared of your own immune system.. the people who 's livliehood depends on vaccines will say anything to scare you because they depend on you being scared.. same thing with measles and mumps.. were mild.. doctors would not even be concerned if you called and said \" little johnny has the measles \" because it was rarely ever a problem.. untill the vaccine came out.. then all of a sudden.. it 's all deadly.. bullhorn...rubella i may be concerned about but no way would i vaccinate for it... health hygene sanitation , quarentine are the only sure ways to control disease.. you ca n't control disease with an injection.. .. they only thing they control with vaccines is you.. and the destruction of your rights to say what goes on with your body... and thier profits and jobs... we have an unbelieveable amount of children that are being systematically injured and the numbers coincide and increase right along with this really bad medical program they force on every child in this country.. go find some exemption forms and keep reading... the insert that comes with the vaccine even states brain inflammation is a side effect of the vaccine... P in pertussis stands for POISON because the P in pertussis vaccines is not contracted by natural route of infection but injected into the muscle which then travels straight to the brain !\"\"\"\n",
    "\n",
    "t_sentences = sent_tokenize(t_orig)"
   ]
  },
  {
   "cell_type": "code",
   "execution_count": 53,
   "metadata": {
    "collapsed": false
   },
   "outputs": [
    {
     "data": {
      "text/plain": [
       "['I would never allow another vaccine period... they all have issues.. there is no such thing as a good vaccine... the likeliehood of catching all the disease we vaccinate for is very small.. not every child will be exposed to all of these diseases naturally... but they are when we vaccinate.. that and more.. many of these supposedly dreaded diseases are mild for the average healthy child.. in any of these diseases there is only a small percentage of people who will suffer negative outcomes.. and without vaccines we would n\\'t have the very real 1 in 50 kids with neurological and autoimmune problems... dont \\' get any more vaccines .. it \\'s not going to kill you but the vaccine can , you ca n\\'t undo a vaccine , you ca n\\'t take it out... do n\\'t be scared of your own immune system.. the people who \\'s livliehood depends on vaccines will say anything to scare you because they depend on you being scared.. same thing with measles and mumps.. were mild.. doctors would not even be concerned if you called and said \" little johnny has the measles \" because it was rarely ever a problem.. untill the vaccine came out.. then all of a sudden.. it \\'s all deadly.. bullhorn...rubella i may be concerned about but no way would i vaccinate for it... health hygene sanitation , quarentine are the only sure ways to control disease.. you ca n\\'t control disease with an injection.. .. they only thing they control with vaccines is you.. and the destruction of your rights to say what goes on with your body... and thier profits and jobs... we have an unbelieveable amount of children that are being systematically injured and the numbers coincide and increase right along with this really bad medical program they force on every child in this country.. go find some exemption forms and keep reading... the insert that comes with the vaccine even states brain inflammation is a side effect of the vaccine... P in pertussis stands for POISON because the P in pertussis vaccines is not contracted by natural route of infection but injected into the muscle which then travels straight to the brain !']"
      ]
     },
     "execution_count": 53,
     "metadata": {},
     "output_type": "execute_result"
    }
   ],
   "source": [
    "t_sentences"
   ]
  },
  {
   "cell_type": "code",
   "execution_count": 75,
   "metadata": {
    "collapsed": false
   },
   "outputs": [
    {
     "name": "stdout",
     "output_type": "stream",
     "text": [
      "[\"I've heard a lot of good things about her book from another site....\", 'I know it is a great book...', \"I've heard a lot of good things about her book from another site....\"]\n"
     ]
    }
   ],
   "source": [
    "#t_orig = \"This is a test to...examine how three dots works... it works fine.\"\n",
    "#t_orig = \"As well as several others....  I've heard a lot of good things about her book from another site....  so it sounds like some love it some dont....\"\n",
    "t_orig = \"I've heard a lot of good things about her book from another site.... I know it is a great book...  I've heard a lot of good things about her book from another site....\"\n",
    "t_sentences = sent_tokenize(t_orig)\n",
    "print t_sentences"
   ]
  },
  {
   "cell_type": "code",
   "execution_count": 47,
   "metadata": {
    "collapsed": false
   },
   "outputs": [
    {
     "name": "stdout",
     "output_type": "stream",
     "text": [
      "defaultdict(<type 'list'>, {1: 630, 2: 20, 3: 8, 4: 1, 5: 28, 6: 13, 7: 8, 8: 24, 9: 17, 10: 35, 11: 47, 12: 36, 13: 56, 14: 72, 15: 115, 16: 78, 17: 115, 18: 119, 19: 121, 20: 159, 21: 137, 22: 167, 23: 154, 24: 129, 25: 131, 26: 156, 27: 183, 28: 174, 29: 194, 30: 165, 31: 136, 32: 158, 33: 166, 34: 155, 35: 142, 36: 117, 37: 103, 38: 147, 39: 123, 40: 129, 41: 109, 42: 137, 43: 131, 44: 136, 45: 92, 46: 111, 47: 88, 48: 98, 49: 87, 50: 82, 51: 65, 52: 103, 53: 82, 54: 80, 55: 41, 56: 37, 57: 53, 58: 56, 59: 58, 60: 34, 61: 41, 62: 38, 63: 30, 64: 21, 65: 74, 66: 72, 67: 23, 68: 55, 69: 52, 70: 18, 71: 59, 72: 64, 73: 47, 74: 40, 75: 43, 76: 15, 77: 50, 78: 43, 79: 41, 80: 31, 81: 17, 82: 29, 83: 35, 84: 15, 85: 23, 86: 14, 87: 6, 88: 21, 89: 20, 90: 9, 91: 17, 92: 19, 93: 9, 94: 12, 95: 10, 96: 44, 97: 21, 98: 12, 99: 1, 100: 12, 101: 10, 102: 7, 103: 2, 104: 10, 105: 4, 107: 6, 108: 10, 109: 9, 110: 1, 111: 28, 112: 21, 114: 18, 115: 5, 116: 9, 117: 15, 118: 18, 119: 9, 120: 10, 121: 4, 122: 8, 124: 3, 125: 7, 128: 6, 129: 6, 130: 4, 131: 12, 132: 3, 134: 5, 135: 6, 136: 11, 138: 8, 139: 3, 141: 18, 142: 6, 145: 12, 147: 13, 150: 6, 152: 6, 160: 5, 170: 8, 182: 2, 185: 8, 190: 9, 191: 8, 212: 7, 223: 6, 242: 20, 245: 9, 289: 13, 295: 10, 381: 1, 382: 22})\n"
     ]
    }
   ],
   "source": [
    "t = \"hi this is behnam\"\n",
    "tokens = nltk.word_tokenize(t)\n",
    "t_len = len(tokens)\n",
    "if t_len in sent_len.keys():\n",
    "    sent_len[t_len] = 1\n",
    "else:\n",
    "    sent_len[t_len] += 1\n",
    "print sent_len"
   ]
  },
  {
   "cell_type": "code",
   "execution_count": 8,
   "metadata": {
    "collapsed": false
   },
   "outputs": [
    {
     "name": "stdout",
     "output_type": "stream",
     "text": [
      "defaultdict(<type 'int'>, {5: 6, 7: 3, 8: 13, 9: 12, 10: 10, 11: 11, 12: 25, 13: 27, 14: 48, 15: 100, 16: 61, 17: 46, 18: 89, 19: 99, 20: 134, 21: 116, 22: 158, 23: 137, 24: 150, 25: 120, 26: 167, 27: 168, 28: 166, 29: 170, 30: 180, 31: 151, 32: 183, 33: 165, 34: 190, 35: 123, 36: 106, 37: 96, 38: 159, 39: 109, 40: 77, 41: 92, 42: 157, 43: 141, 44: 143, 45: 104, 46: 147, 47: 82, 48: 107, 49: 55, 50: 56, 51: 42, 52: 74, 53: 96, 54: 136, 55: 42, 56: 30, 57: 37, 58: 20, 59: 44, 60: 8, 61: 27, 62: 9, 63: 12, 64: 15, 65: 53, 66: 19, 67: 15, 68: 44, 69: 104, 70: 22, 71: 66, 72: 58, 73: 66, 74: 32, 76: 29, 77: 59, 78: 110, 79: 18, 80: 54, 85: 26, 88: 43, 89: 54, 90: 18, 92: 20, 93: 2, 96: 30, 100: 1, 103: 12, 104: 27, 108: 12, 109: 27, 111: 27, 114: 22, 118: 30, 128: 2, 132: 12, 147: 50, 150: 78, 170: 80, 182: 3, 191: 64, 223: 2, 242: 17, 245: 1, 289: 16, 295: 7, 382: 7})\n"
     ]
    }
   ],
   "source": [
    "print sent_len"
   ]
  },
  {
   "cell_type": "code",
   "execution_count": 7,
   "metadata": {
    "collapsed": false
   },
   "outputs": [],
   "source": [
    "import matplotlib.pyplot as plt\n",
    "\n",
    "D = sent_len#{u'Label1':26, u'Label2': 17, u'Label3':30}\n",
    "\n",
    "plt.figure(figsize=(12,6), dpi=100)\n",
    "\n",
    "plt.bar(range(len(D)), D.values(), align='center')\n",
    "plt.xticks(range(len(D)), D.keys(), rotation=90)\n",
    "\n",
    "\n",
    "\n",
    "plt.ylabel(\"Frequency of sentences\")\n",
    "plt.xlabel(\"Number of words in a sentence\")\n",
    "\n",
    "plt.show()"
   ]
  },
  {
   "cell_type": "code",
   "execution_count": null,
   "metadata": {
    "collapsed": false
   },
   "outputs": [],
   "source": [
    "sent_len[1]"
   ]
  },
  {
   "cell_type": "code",
   "execution_count": 65,
   "metadata": {
    "collapsed": false
   },
   "outputs": [
    {
     "name": "stdout",
     "output_type": "stream",
     "text": [
      "<type 'int'>\n"
     ]
    }
   ],
   "source": [
    "print type(max(d.values()))"
   ]
  },
  {
   "cell_type": "code",
   "execution_count": 81,
   "metadata": {
    "collapsed": false
   },
   "outputs": [
    {
     "data": {
      "text/plain": [
       "defaultdict(int,\n",
       "            {1: 630,\n",
       "             2: 20,\n",
       "             3: 8,\n",
       "             4: 6,\n",
       "             5: 28,\n",
       "             6: 13,\n",
       "             7: 8,\n",
       "             8: 24,\n",
       "             9: 17,\n",
       "             10: 35,\n",
       "             11: 47,\n",
       "             12: 36,\n",
       "             13: 56,\n",
       "             14: 72,\n",
       "             15: 115,\n",
       "             16: 78,\n",
       "             17: 115,\n",
       "             18: 119,\n",
       "             19: 121,\n",
       "             20: 159,\n",
       "             21: 137,\n",
       "             22: 167,\n",
       "             23: 154,\n",
       "             24: 129,\n",
       "             25: 131,\n",
       "             26: 156,\n",
       "             27: 183,\n",
       "             28: 174,\n",
       "             29: 194,\n",
       "             30: 165,\n",
       "             31: 136,\n",
       "             32: 158,\n",
       "             33: 166,\n",
       "             34: 155,\n",
       "             35: 142,\n",
       "             36: 117,\n",
       "             37: 103,\n",
       "             38: 147,\n",
       "             39: 123,\n",
       "             40: 129,\n",
       "             41: 109,\n",
       "             42: 137,\n",
       "             43: 131,\n",
       "             44: 136,\n",
       "             45: 92,\n",
       "             46: 111,\n",
       "             47: 88,\n",
       "             48: 98,\n",
       "             49: 87,\n",
       "             50: 82,\n",
       "             51: 65,\n",
       "             52: 103,\n",
       "             53: 82,\n",
       "             54: 80,\n",
       "             55: 41,\n",
       "             56: 37,\n",
       "             57: 53,\n",
       "             58: 56,\n",
       "             59: 58,\n",
       "             60: 34,\n",
       "             61: 41,\n",
       "             62: 38,\n",
       "             63: 30,\n",
       "             64: 21,\n",
       "             65: 74,\n",
       "             66: 72,\n",
       "             67: 23,\n",
       "             68: 55,\n",
       "             69: 52,\n",
       "             70: 18,\n",
       "             71: 59,\n",
       "             72: 64,\n",
       "             73: 47,\n",
       "             74: 40,\n",
       "             75: 43,\n",
       "             76: 15,\n",
       "             77: 50,\n",
       "             78: 43,\n",
       "             79: 41,\n",
       "             80: 31,\n",
       "             81: 17,\n",
       "             82: 29,\n",
       "             83: 35,\n",
       "             84: 15,\n",
       "             85: 23,\n",
       "             86: 14,\n",
       "             87: 6,\n",
       "             88: 21,\n",
       "             89: 20,\n",
       "             90: 9,\n",
       "             91: 17,\n",
       "             92: 19,\n",
       "             93: 9,\n",
       "             94: 12,\n",
       "             95: 10,\n",
       "             96: 44,\n",
       "             97: 21,\n",
       "             98: 12,\n",
       "             99: 1,\n",
       "             100: 12,\n",
       "             101: 10,\n",
       "             102: 7,\n",
       "             103: 2,\n",
       "             104: 10,\n",
       "             105: 4,\n",
       "             107: 6,\n",
       "             108: 10,\n",
       "             109: 9,\n",
       "             110: 1,\n",
       "             111: 28,\n",
       "             112: 21,\n",
       "             114: 18,\n",
       "             115: 5,\n",
       "             116: 9,\n",
       "             117: 15,\n",
       "             118: 18,\n",
       "             119: 9,\n",
       "             120: 10,\n",
       "             121: 4,\n",
       "             122: 8,\n",
       "             124: 3,\n",
       "             125: 7,\n",
       "             128: 6,\n",
       "             129: 6,\n",
       "             130: 4,\n",
       "             131: 12,\n",
       "             132: 3,\n",
       "             134: 5,\n",
       "             135: 6,\n",
       "             136: 11,\n",
       "             138: 8,\n",
       "             139: 3,\n",
       "             141: 18,\n",
       "             142: 6,\n",
       "             145: 12,\n",
       "             147: 13,\n",
       "             150: 6,\n",
       "             152: 6,\n",
       "             160: 5,\n",
       "             170: 8,\n",
       "             182: 2,\n",
       "             185: 8,\n",
       "             190: 9,\n",
       "             191: 8,\n",
       "             212: 7,\n",
       "             223: 6,\n",
       "             242: 20,\n",
       "             245: 9,\n",
       "             289: 13,\n",
       "             295: 10,\n",
       "             381: 1,\n",
       "             382: 22})"
      ]
     },
     "execution_count": 81,
     "metadata": {},
     "output_type": "execute_result"
    }
   ],
   "source": [
    "sent_len"
   ]
  },
  {
   "cell_type": "code",
   "execution_count": null,
   "metadata": {
    "collapsed": true
   },
   "outputs": [],
   "source": []
  }
 ],
 "metadata": {
  "kernelspec": {
   "display_name": "Python 2",
   "language": "python",
   "name": "python2"
  },
  "language_info": {
   "codemirror_mode": {
    "name": "ipython",
    "version": 2
   },
   "file_extension": ".py",
   "mimetype": "text/x-python",
   "name": "python",
   "nbconvert_exporter": "python",
   "pygments_lexer": "ipython2",
   "version": "2.7.10"
  }
 },
 "nbformat": 4,
 "nbformat_minor": 0
}
