{
 "cells": [
  {
   "cell_type": "code",
   "execution_count": 38,
   "metadata": {
    "collapsed": false,
    "scrolled": false
   },
   "outputs": [
    {
     "name": "stdout",
     "output_type": "stream",
     "text": [
      "0\n",
      "10000\n",
      "20000\n"
     ]
    },
    {
     "name": "stderr",
     "output_type": "stream",
     "text": [
      "Skipping line 44759: expected 1 fields, saw 2\n",
      "\n"
     ]
    }
   ],
   "source": [
    "%reset -f\n",
    "\n",
    "from init import *\n",
    "from main_functions import *\n",
    "from utility_functions import *\n",
    "\n",
    "data_dir = \"../../data/\"\n",
    "\n",
    "\n",
    "based_dir = data_dir + 'Vaccination/'\n",
    "output_dir = based_dir + 'output/'\n",
    "file_input_name = 'sents.txt'\n",
    "#file_input_name = 'sent_cdb_child_exemption.txt'\n",
    "file_input = based_dir + file_input_name\n",
    "df = read_data(file_input,\"mothering\",\"\\n\")#read the input sentences\n",
    "texts = df['text'].tolist()\n",
    "\n",
    "output_file = open(based_dir + \"sents_clean.txt\", \"w\")\n",
    "\n",
    "\n",
    "for ind, t_orig in enumerate(texts):\n",
    "    #print ind ,\n",
    "    #if ind  >1000:\n",
    "    #    break\n",
    "    if ind % 10000 == 0:\n",
    "        print ind\n",
    "    try:\n",
    "        t_orig = clean_sent(t_orig)\n",
    "        t_orig = t_orig.decode('utf-8')\n",
    "        t_sentences = sent_tokenize(t_orig)\n",
    "        for t in t_sentences:\n",
    "            t = t.encode('utf-8')\n",
    "            if len(t.split(\" \")) > 1:\n",
    "                output_file.write(t+\"\\n\")\n",
    "    except:\n",
    "        print \"error - index: \", ind\n",
    "        print t_orig\n",
    "    \n",
    "output_file.close()    "
   ]
  },
  {
   "cell_type": "code",
   "execution_count": 20,
   "metadata": {
    "collapsed": false
   },
   "outputs": [
    {
     "name": "stdout",
     "output_type": "stream",
     "text": [
      "!\"#$%&'()*+,-./:;<=>?@[\\]^_`{|}~\n"
     ]
    }
   ],
   "source": [
    "import string\n",
    "print string.punctuation"
   ]
  },
  {
   "cell_type": "code",
   "execution_count": 33,
   "metadata": {
    "collapsed": false,
    "scrolled": false
   },
   "outputs": [
    {
     "name": "stdout",
     "output_type": "stream",
     "text": [
      "email I got today   Hi there  Thanks so much for listening to my story.  Well our daughter was born healthy and strong just 3 weeks early. After I stopped breastfeeding her I got her on formula but found out later that she was allergic to whole formula and she broke out in rashes and had hard time breathing.  So then the doctor said but her on soy formula. That was fine. Then later I moved her to Lactose free formula and that is better than soy I think. She does fine with that. Then the problems came in.  When she was about 11 months she started eating pretty good I would give her crackers, all fruits she could eat like banana, grapes cut up, peaches, apples, vegetables green beans, carrots, squash, petites and more.  Then I noticed when I started giving her like products with wheat’s her she started having diarrhea in January of this year. Then I would take her off wheat products for awhile and then it turned green. Then in balls, sometimes messy sometimes brown.  I have been dealing with problems in her stools for 7 months. It would change every time no matter what I feed her. Plus she always has rashes all the time under her legs and arms. I have talked to the doctor about it she told me to write everything down which I have.  Like sometimes I won’t give her any bread products which now I don’t give her any things that have wheat we go to Akins for all of that. But nothing is helping and this is not good for her body. Like that her poop is changing colors, and consisity.  Im so lost now of what to do and I need prayers. If your child has dealt with this any advice would be so helpful. Also I feel like I need to get her tested but don’t know how to go about it. She goes to the doctor for her checkup but I wanted to get other people’s advice too.  This does not have to do with what she is dealing with but also she has not even said her first word she mumbles and says like da da but not words and she is 15 months? Thanks so much you’re a blessing. I hope you can give me some advice.  Thank you, C. SOunds liek my friends now 7yo son. HE is now labeled termianlly ill and is diabetic. Cut out sugars and white flours for the most part ie. go healthy as can be, STOP VACCINATING. yes friends son now has a MEDICAL EXEMPTION.  Friend was told she could not breastfeed due to no milk PURE BS ; she became engorged soo nafter . Son had reactions to formula. Kept switiching, kept getting sick. Had yeast like nothing you have ever seen. more meds, many antibiotics. Awful diet she did not know better. He had mouth thrush until AGE 5! He was on the antibiotics until age 6! He was vaxed in the meanwhile, it was horrendous. the last batch and the diabetes set in. he almost diied many a times. Perhaps she should visit the allergy board here. Cut out common food allergens  ; get a copy of the current issue of Mothering for the eczema article. Try to give her probiotics or acidophilous to correct her intestinal flora balance.  Poor baby!!  Keep us posted. I wrote   Dear C,  Is your child vaccinated?   Cs answer   she has had all her vacination up til her next check up that is thursday.  Dtap hib ipv prenar  I don t know the names. I dont know if vaccinations would cause her allergics though. It sounds like the poor baby has a completely trashed gut , likely due to the vaccines, and is leaking proteins into her blood, hence all the food allergiesintolerances. She also is likely to have a systemic yeast problem.  I would certainly put her on probiotics and see if that helps to rebalance the gut. I do not have any of my bookmarks on this new computer so I cannot provide you with any links unfortunately.  I agree with amnesiac, post this on the allergies board there are mamas over there with babies and children with multiple allergies. Hopefully JaneS will stop by this board and see you post, as I am sure she will have some helpful info to share. Gitti, keep us posted about this poor babe . I would suspect this as well. Better off not to take any chances, thats why you should urge her  not  to give her child the MMR vaccine on that visit.  Hopefully, she has not done it yet but please stress this. Some peds give it at 12 months, some at 15 months. If she is planning on getting the shot, then urge her to at least delay it until the GI problems are addressed.  If you think she may be interested, here is a fantastic laymans link to the MMRAutism gut theory  This child should be tested for celiac sprue,sounds like that is what she has and leaky gut. I have both and its not fun. I agree that the child sounds like she has Celiac, especially with the reactions to dairy and wheat. If the child reacted to milk based formulas and soy, she needs to be watching for the hidden dairys like Whey and Casein. Hopefully someone has told her by now that milk protein allergy is a totally different thing than lactose intolerance. If shes got a milk allergy she should not be on lactose free formula. Or soy formula. Forgive me if this is totally obvious, I have not been here long so maybe Im missing something. I do not understand what kind of help shes looking for. Why is this on the vaccination board?  Because we also discuss adverse vaccine reactions. OMG your kidding! That was a letter I could have written about my 2nd son. He eats and drinks wheatmilk all of the time now, but man, when he was younger. that is exactly how it was. Though he throws up all the time. I mean way more than he should. To the point I am worried about him but dont trust the Drs enough to take him to one. Could that be from the one MMR he has had? I have already decided the will NEVER have another Vax as far as I am concerned. he has reactions to the vax that were considered normal to a ped. A friend of my moms son had similiar problems, they put him on goats milk. It was the only thing he could tolerate to any extent until they started him on solids way early around 4 months, i think?.  I do not know if thats any kind of help, but thought it worth mentioning if this child is having bad sensitivites to milk. based formulas.\n",
      "email I got today   Hi there  Thanks so much for listening to my story.\n",
      "Well our daughter was born healthy and strong just 3 weeks early.\n",
      "After I stopped breastfeeding her I got her on formula but found out later that she was allergic to whole formula and she broke out in rashes and had hard time breathing.\n",
      "So then the doctor said but her on soy formula.\n",
      "That was fine.\n",
      "Then later I moved her to Lactose free formula and that is better than soy I think.\n",
      "She does fine with that.\n",
      "Then the problems came in.\n",
      "When she was about 11 months she started eating pretty good I would give her crackers, all fruits she could eat like banana, grapes cut up, peaches, apples, vegetables green beans, carrots, squash, petites and more.\n",
      "Then I noticed when I started giving her like products with wheat’s her she started having diarrhea in January of this year.\n",
      "Then I would take her off wheat products for awhile and then it turned green.\n",
      "Then in balls, sometimes messy sometimes brown.\n",
      "I have been dealing with problems in her stools for 7 months.\n",
      "It would change every time no matter what I feed her.\n",
      "Plus she always has rashes all the time under her legs and arms.\n",
      "I have talked to the doctor about it she told me to write everything down which I have.\n",
      "Like sometimes I won’t give her any bread products which now I don’t give her any things that have wheat we go to Akins for all of that.\n",
      "But nothing is helping and this is not good for her body.\n",
      "Like that her poop is changing colors, and consisity.\n",
      "Im so lost now of what to do and I need prayers.\n",
      "If your child has dealt with this any advice would be so helpful.\n",
      "Also I feel like I need to get her tested but don’t know how to go about it.\n",
      "She goes to the doctor for her checkup but I wanted to get other people’s advice too.\n",
      "This does not have to do with what she is dealing with but also she has not even said her first word she mumbles and says like da da but not words and she is 15 months?\n",
      "Thanks so much you’re a blessing.\n",
      "I hope you can give me some advice.\n",
      "Thank you, C. SOunds liek my friends now 7yo son.\n",
      "HE is now labeled termianlly ill and is diabetic.\n",
      "Cut out sugars and white flours for the most part ie.\n",
      "go healthy as can be, STOP VACCINATING.\n",
      "yes friends son now has a MEDICAL EXEMPTION.\n",
      "Friend was told she could not breastfeed due to no milk PURE BS ; she became engorged soo nafter .\n",
      "Son had reactions to formula.\n",
      "Kept switiching, kept getting sick.\n",
      "Had yeast like nothing you have ever seen.\n",
      "more meds, many antibiotics.\n",
      "Awful diet she did not know better.\n",
      "He had mouth thrush until AGE 5!\n",
      "He was on the antibiotics until age 6!\n",
      "He was vaxed in the meanwhile, it was horrendous.\n",
      "the last batch and the diabetes set in.\n",
      "he almost diied many a times.\n",
      "Perhaps she should visit the allergy board here.\n",
      "Cut out common food allergens  ; get a copy of the current issue of Mothering for the eczema article.\n",
      "Try to give her probiotics or acidophilous to correct her intestinal flora balance.\n",
      "Poor baby!!\n",
      "Keep us posted.\n",
      "I wrote   Dear C,  Is your child vaccinated?\n",
      "Cs answer   she has had all her vacination up til her next check up that is thursday.\n",
      "Dtap hib ipv prenar  I don t know the names.\n",
      "I dont know if vaccinations would cause her allergics though.\n",
      "It sounds like the poor baby has a completely trashed gut , likely due to the vaccines, and is leaking proteins into her blood, hence all the food allergiesintolerances.\n",
      "She also is likely to have a systemic yeast problem.\n",
      "I would certainly put her on probiotics and see if that helps to rebalance the gut.\n",
      "I do not have any of my bookmarks on this new computer so I cannot provide you with any links unfortunately.\n",
      "I agree with amnesiac, post this on the allergies board there are mamas over there with babies and children with multiple allergies.\n",
      "Hopefully JaneS will stop by this board and see you post, as I am sure she will have some helpful info to share.\n",
      "Gitti, keep us posted about this poor babe .\n",
      "I would suspect this as well.\n",
      "Better off not to take any chances, thats why you should urge her  not  to give her child the MMR vaccine on that visit.\n",
      "Hopefully, she has not done it yet but please stress this.\n",
      "Some peds give it at 12 months, some at 15 months.\n",
      "If she is planning on getting the shot, then urge her to at least delay it until the GI problems are addressed.\n",
      "If you think she may be interested, here is a fantastic laymans link to the MMRAutism gut theory  This child should be tested for celiac sprue,sounds like that is what she has and leaky gut.\n",
      "I have both and its not fun.\n",
      "I agree that the child sounds like she has Celiac, especially with the reactions to dairy and wheat.\n",
      "If the child reacted to milk based formulas and soy, she needs to be watching for the hidden dairys like Whey and Casein.\n",
      "Hopefully someone has told her by now that milk protein allergy is a totally different thing than lactose intolerance.\n",
      "If shes got a milk allergy she should not be on lactose free formula.\n",
      "Or soy formula.\n",
      "Forgive me if this is totally obvious, I have not been here long so maybe Im missing something.\n",
      "I do not understand what kind of help shes looking for.\n",
      "Why is this on the vaccination board?\n",
      "Because we also discuss adverse vaccine reactions.\n",
      "OMG your kidding!\n",
      "That was a letter I could have written about my 2nd son.\n",
      "He eats and drinks wheatmilk all of the time now, but man, when he was younger.\n",
      "that is exactly how it was.\n",
      "Though he throws up all the time.\n",
      "I mean way more than he should.\n",
      "To the point I am worried about him but dont trust the Drs enough to take him to one.\n",
      "Could that be from the one MMR he has had?\n",
      "I have already decided the will NEVER have another Vax as far as I am concerned.\n",
      "he has reactions to the vax that were considered normal to a ped.\n",
      "A friend of my moms son had similiar problems, they put him on goats milk.\n",
      "It was the only thing he could tolerate to any extent until they started him on solids way early around 4 months, i think?.\n",
      "I do not know if thats any kind of help, but thought it worth mentioning if this child is having bad sensitivites to milk.\n",
      "based formulas.\n"
     ]
    }
   ],
   "source": [
    "t = \"\"\"email I got today:   Hi there  Thanks so much for listening to my story.  Well our daughter was born healthy and strong just 3 weeks early. After I stopped breastfeeding her I got her on formula but found out later that she was allergic to whole formula and she broke out in rashes and had hard time breathing.  So then the doctor said but her on soy formula. That was fine. Then later I moved her to Lactose free formula and that is better than soy I think. She does fine with that. Then the problems came in.  When she was about 11 months she started eating pretty good I would give her crackers, all fruits she could eat like banana, grapes cut up, peaches, apples, vegetables green beans, carrots, squash, petites and more.  Then I noticed when I started giving her like products with wheat’s her she started having diarrhea in January of this year. Then I would take her off wheat products for awhile and then it turned green. Then in balls, sometimes messy sometimes brown.  I have been dealing with problems in her stools for 7 months. It would change every time no matter what I feed her. Plus she always has rashes all the time under her legs and arms. I have talked to the doctor about it she told me to write everything down which I have.  Like sometimes I won’t give her any bread products which now I don’t give her any things that have wheat we go to Akins for all of that. But nothing is helping and this is not good for her body. Like that her poop is changing colors, and consisity.  I'm so lost now of what to do and I need prayers. If your child has dealt with this any advice would be so helpful. Also I feel like I need to get her tested but don’t know how to go about it. She goes to the doctor for her checkup but I wanted to get other people’s advice too.  This does not have to do with what she is dealing with but also she has not even said her first word she mumbles and says like da da but not words and she is 15 months? Thanks so much you’re a blessing. I hope you can give me some advice.  Thank you, C. SOunds liek my friends now 7yo son. HE is now labeled termianlly ill and is diabetic. Cut out sugars and white flours for the most part ie. go healthy as can be, STOP VACCINATING. yes friends son now has a MEDICAL EXEMPTION.  Friend was told she could not breastfeed due to no milk PURE BS ; she became engorged soo nafter . Son had reactions to formula. Kept switiching, kept getting sick. Had yeast like nothing you have ever seen. more meds, many antibiotics. Awful diet she did not know better. He had mouth thrush until AGE 5! He was on the antibiotics until age 6! He was vaxed in the meanwhile, it was horrendous. the last batch and the diabetes set in. he almost diied many a times. Perhaps she should visit the allergy board here. Cut out common food allergens  ; get a copy of the current issue of Mothering for the eczema article. Try to give her probiotics or acidophilous to correct her intestinal flora balance.  Poor baby!!  Keep us posted. I wrote:   Dear C,  Is your child vaccinated?   C's answer:   she has had all her vacination up til her next check up that is thursday.  Dtap hib ipv prenar  I don t know the names. I dont know if vaccinations would cause her allergics though. It sounds like the poor baby has a completely trashed gut , likely due to the vaccines, and is leaking proteins into her blood, hence all the food allergies/intolerances. She also is likely to have a systemic yeast problem.  I would certainly put her on probiotics and see if that helps to rebalance the gut. I do not have any of my bookmarks on this new computer so I cannot provide you with any links unfortunately.  I agree with amnesiac, post this on the allergies board there are mamas over there with babies and children with multiple allergies. Hopefully JaneS will stop by this board and see you post, as I am sure she will have some helpful info to share. Gitti, keep us posted about this poor babe . I would suspect this as well. Better off not to take any chances, that's why you should urge her  not  to give her child the MMR vaccine on that visit.  Hopefully, she has not done it yet but please stress this. Some peds give it at 12 months, some at 15 months. If she is planning on getting the shot, then urge her to at least delay it until the GI problems are addressed.  If you think she may be interested, here is a fantastic \"layman's\" link to the MMR/Autism gut theory:  This child should be tested for celiac sprue,sounds like that is what she has and leaky gut. I have both and it's not fun. I agree that the child sounds like she has Celiac, especially with the reactions to dairy and wheat. If the child reacted to milk based formula's and soy, she needs to be watching for the hidden dairy's like Whey and Casein. Hopefully someone has told her by now that milk protein allergy is a totally different thing than lactose intolerance. If she's got a milk allergy she should not be on lactose free formula. Or soy formula. Forgive me if this is totally obvious, I have not been here long so maybe I'm missing something. I do not understand what kind of help she's looking for. Why is this on the vaccination board? : Because we also discuss adverse vaccine reactions. OMG your kidding! That was a letter I could have written about my 2nd son. He eats and drinks wheat/milk all of the time now, but man, when he was younger. that is exactly how it was. Though he throws up all the time. I mean way more than he should. To the point I am worried about him but dont trust the Dr's enough to take him to one. Could that be from the one MMR he has had? I have already decided the will NEVER have another Vax as far as I am concerned. he has reactions to the vax that were considered \"normal\" to a ped. A friend of my mom's son had similiar problems, they put him on goat's milk. It was the only thing he could tolerate to any extent until they started him on solids way early around 4 months, i think?.  I do not know if that's any kind of help, but thought it worth mentioning if this child is having bad sensitivites to milk. based formulas.\"\"\"\n",
    "exclude = set(string.punctuation) - {\".\",\",\",\";\", \"!\", \"?\"}\n",
    "t = ''.join(ch for ch in t if ch not in exclude)\n",
    "print t\n",
    "#t2 = t.decode('utf-8')\n",
    "t2 = t.decode('utf-8')\n",
    "for s in sent_tokenize(t2):\n",
    "    print s.encode('utf-8')\n"
   ]
  },
  {
   "cell_type": "code",
   "execution_count": null,
   "metadata": {
    "collapsed": true
   },
   "outputs": [],
   "source": []
  }
 ],
 "metadata": {
  "kernelspec": {
   "display_name": "Python 2",
   "language": "python",
   "name": "python2"
  },
  "language_info": {
   "codemirror_mode": {
    "name": "ipython",
    "version": 2
   },
   "file_extension": ".py",
   "mimetype": "text/x-python",
   "name": "python",
   "nbconvert_exporter": "python",
   "pygments_lexer": "ipython2",
   "version": "2.7.10"
  }
 },
 "nbformat": 4,
 "nbformat_minor": 0
}
