{
 "cells": [
  {
   "cell_type": "code",
   "execution_count": 22,
   "metadata": {
    "collapsed": false
   },
   "outputs": [
    {
     "name": "stdout",
     "output_type": "stream",
     "text": [
      "/Users/behnam/Desktop/Behnam_Files/vwani_text_mining/RE_Behnam/nlp_tools/practNLPTools-master\n",
      "\n"
     ]
    }
   ],
   "source": [
    "import subprocess\n",
    "import os\n",
    "\n",
    "#parse = \"(S1(S(NP(NNP Yakub))(VP(VBD flew)(PP(IN from)(NP(NNP London)))(PP(TO to)(NP(NNP Seattle))))(. .)))\"\n",
    "parse = \"(S1(S(SBAR(RB Even)(IN if)(S(NP(DT the)(NNP Church))(VP(VBD told)(NP(DT all)(JJ Catholic)(NNS parents))(S(RB not)(VP(TO to)(VP(VB let)(S(NP(PRP$ their)(NN child))(VP(VB get)(NP(DT the)(NNP MMR))(PP(IN for)(NP(NN instance)))))))))))(, ,)(NP(JJS most)(NNS parents))(VP(MD would)(VP(VB have)(S(VP(TO to)(ADVP(RB still))(VP(VB be)(VP(VBN required)(S(VP(TO to)(VP(VB submit)(NP(NP(DT a)(JJ religous)(NN exemption))(SBAR(WHNP(WDT which))(S(VP(MD would)(VP(VB exempt)(NP(DT all)(NNS vaccines))))))))))))))))(. .)))\"\n",
    "\n",
    "__file__ = \"/Users/behnam/Desktop/Behnam_Files/vwani_text_mining/RE_Behnam/nlp_tools/practNLPTools-master/practnlptools\"\n",
    "\n",
    "package_directory = os.path.dirname(os.path.abspath(__file__))\n",
    "cwd=os.getcwd()\n",
    "print cwd\n",
    "os.chdir(package_directory)\n",
    "parsefile=open(cwd+\"/in.parse\",\"w\")\n",
    "parsefile.write(parse)\n",
    "parsefile.close()\n",
    "#p=subprocess.Popen(['java','-cp',__file__+'/stanford-parser.jar', 'edu.stanford.nlp.trees.EnglishGrammaticalStructure','-printPCFGkBest 20', '-treeFile', cwd+'/in.parse','-collapsed'],stdout=subprocess.PIPE,stderr=subprocess.PIPE)\n",
    "p=subprocess.Popen(['java','-cp',__file__+'/stanford-parser.jar', 'edu.stanford.nlp.parser.lexparser.LexicalizedParser','-printPCFGkBest 5', '-treeFile', cwd+'/in.parse','-collapsed'],stdout=subprocess.PIPE,stderr=subprocess.PIPE)\n",
    "\n",
    "p.wait()\n",
    "stanford_out=p.stdout.read()\n",
    "os.chdir(cwd)\n",
    "print stanford_out.strip()"
   ]
  },
  {
   "cell_type": "code",
   "execution_count": 23,
   "metadata": {
    "collapsed": false
   },
   "outputs": [
    {
     "ename": "SyntaxError",
     "evalue": "invalid syntax (<ipython-input-23-34b57d962500>, line 1)",
     "output_type": "error",
     "traceback": [
      "\u001b[0;36m  File \u001b[0;32m\"<ipython-input-23-34b57d962500>\"\u001b[0;36m, line \u001b[0;32m1\u001b[0m\n\u001b[0;31m    p.stdout.\u001b[0m\n\u001b[0m             ^\u001b[0m\n\u001b[0;31mSyntaxError\u001b[0m\u001b[0;31m:\u001b[0m invalid syntax\n"
     ]
    }
   ],
   "source": []
  },
  {
   "cell_type": "code",
   "execution_count": null,
   "metadata": {
    "collapsed": true
   },
   "outputs": [],
   "source": []
  }
 ],
 "metadata": {
  "kernelspec": {
   "display_name": "Python 2",
   "language": "python",
   "name": "python2"
  },
  "language_info": {
   "codemirror_mode": {
    "name": "ipython",
    "version": 2
   },
   "file_extension": ".py",
   "mimetype": "text/x-python",
   "name": "python",
   "nbconvert_exporter": "python",
   "pygments_lexer": "ipython2",
   "version": "2.7.10"
  }
 },
 "nbformat": 4,
 "nbformat_minor": 0
}
